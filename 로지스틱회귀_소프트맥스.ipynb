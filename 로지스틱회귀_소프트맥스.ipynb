{
  "nbformat": 4,
  "nbformat_minor": 0,
  "metadata": {
    "colab": {
      "provenance": [],
      "authorship_tag": "ABX9TyPHzteG8Zi5yNbOu2kzTreh",
      "include_colab_link": true
    },
    "kernelspec": {
      "name": "python3",
      "display_name": "Python 3"
    },
    "language_info": {
      "name": "python"
    }
  },
  "cells": [
    {
      "cell_type": "markdown",
      "metadata": {
        "id": "view-in-github",
        "colab_type": "text"
      },
      "source": [
        "<a href=\"https://colab.research.google.com/github/Leeyounghun94/AIStudy24/blob/master/%EB%A1%9C%EC%A7%80%EC%8A%A4%ED%8B%B1%ED%9A%8C%EA%B7%80_%EC%86%8C%ED%94%84%ED%8A%B8%EB%A7%A5%EC%8A%A4.ipynb\" target=\"_parent\"><img src=\"https://colab.research.google.com/assets/colab-badge.svg\" alt=\"Open In Colab\"/></a>"
      ]
    },
    {
      "cell_type": "markdown",
      "source": [
        "MBC 쇼핑몰에서는 럭키백을 판매하기로 하였다.\n",
        "\n",
        "럭키백에는 생선이 들어가 있는데 생선의 종류가 7가지가 랜덤하게 들어 있다.\n",
        "\n",
        "럭키백에는 확률을 표시해야 함 : 들어있는 7가지의 생선의 확률이 필요함."
      ],
      "metadata": {
        "id": "n2p1zIyzqdGk"
      }
    },
    {
      "cell_type": "code",
      "execution_count": null,
      "metadata": {
        "id": "syj1o7SsqVXh"
      },
      "outputs": [],
      "source": [
        "# 럭키백의 확률 : 생선이 7마리라고 가정함\n",
        "# 생선의 크기, 무게 (길이, 높이, 두께, 대각선의 길이, 무게)"
      ]
    },
    {
      "cell_type": "code",
      "source": [
        "# k-최근접 알고리즘을 이용해본다면? 회귀일까? 분류일까?\n",
        "# 확률을 알고 싶은 것이기 때문에 회귀를 사용을 해본다!\n",
        "\n",
        "# 샘플 10개 중에 농어가 3개면 ? 3 / 10 = 0.3\n",
        "# 빙어가 5개면 ? 5 / 10 = 0.5\n",
        "# 도미가 2개면? 2 / 10 = 0.2 이렇게 해서 총 100 %\n",
        "\n",
        "# 사이킷런의 k-최근접 이웃 분리기도 이와 동일한 방식으로 확률을 계산 해준다.\n",
        "\n",
        "# 샘플 데이터 준비.\n",
        "import pandas as pd     # 판다스로 csv를 처리함\n",
        "\n",
        "fish = pd.read_csv('https://bit.ly/fish_csv_data')      # 웹에 있는 파일을 가져온다.\n",
        "fish.head()     # head() 제일 위쪽 데이터 5개를 보여준다.\n",
        "\n",
        "#   종(Species) 무게      길이   대각선       키    너비(두께)"
      ],
      "metadata": {
        "colab": {
          "base_uri": "https://localhost:8080/",
          "height": 206
        },
        "id": "wyNovDN7yZx7",
        "outputId": "39517233-0b3b-4d7d-9d3b-0c9c0545d1da"
      },
      "execution_count": 1,
      "outputs": [
        {
          "output_type": "execute_result",
          "data": {
            "text/plain": [
              "  Species  Weight  Length  Diagonal   Height   Width\n",
              "0   Bream   242.0    25.4      30.0  11.5200  4.0200\n",
              "1   Bream   290.0    26.3      31.2  12.4800  4.3056\n",
              "2   Bream   340.0    26.5      31.1  12.3778  4.6961\n",
              "3   Bream   363.0    29.0      33.5  12.7300  4.4555\n",
              "4   Bream   430.0    29.0      34.0  12.4440  5.1340"
            ],
            "text/html": [
              "\n",
              "  <div id=\"df-fbabb229-b6ab-43b4-97d6-867fd2354ab6\" class=\"colab-df-container\">\n",
              "    <div>\n",
              "<style scoped>\n",
              "    .dataframe tbody tr th:only-of-type {\n",
              "        vertical-align: middle;\n",
              "    }\n",
              "\n",
              "    .dataframe tbody tr th {\n",
              "        vertical-align: top;\n",
              "    }\n",
              "\n",
              "    .dataframe thead th {\n",
              "        text-align: right;\n",
              "    }\n",
              "</style>\n",
              "<table border=\"1\" class=\"dataframe\">\n",
              "  <thead>\n",
              "    <tr style=\"text-align: right;\">\n",
              "      <th></th>\n",
              "      <th>Species</th>\n",
              "      <th>Weight</th>\n",
              "      <th>Length</th>\n",
              "      <th>Diagonal</th>\n",
              "      <th>Height</th>\n",
              "      <th>Width</th>\n",
              "    </tr>\n",
              "  </thead>\n",
              "  <tbody>\n",
              "    <tr>\n",
              "      <th>0</th>\n",
              "      <td>Bream</td>\n",
              "      <td>242.0</td>\n",
              "      <td>25.4</td>\n",
              "      <td>30.0</td>\n",
              "      <td>11.5200</td>\n",
              "      <td>4.0200</td>\n",
              "    </tr>\n",
              "    <tr>\n",
              "      <th>1</th>\n",
              "      <td>Bream</td>\n",
              "      <td>290.0</td>\n",
              "      <td>26.3</td>\n",
              "      <td>31.2</td>\n",
              "      <td>12.4800</td>\n",
              "      <td>4.3056</td>\n",
              "    </tr>\n",
              "    <tr>\n",
              "      <th>2</th>\n",
              "      <td>Bream</td>\n",
              "      <td>340.0</td>\n",
              "      <td>26.5</td>\n",
              "      <td>31.1</td>\n",
              "      <td>12.3778</td>\n",
              "      <td>4.6961</td>\n",
              "    </tr>\n",
              "    <tr>\n",
              "      <th>3</th>\n",
              "      <td>Bream</td>\n",
              "      <td>363.0</td>\n",
              "      <td>29.0</td>\n",
              "      <td>33.5</td>\n",
              "      <td>12.7300</td>\n",
              "      <td>4.4555</td>\n",
              "    </tr>\n",
              "    <tr>\n",
              "      <th>4</th>\n",
              "      <td>Bream</td>\n",
              "      <td>430.0</td>\n",
              "      <td>29.0</td>\n",
              "      <td>34.0</td>\n",
              "      <td>12.4440</td>\n",
              "      <td>5.1340</td>\n",
              "    </tr>\n",
              "  </tbody>\n",
              "</table>\n",
              "</div>\n",
              "    <div class=\"colab-df-buttons\">\n",
              "\n",
              "  <div class=\"colab-df-container\">\n",
              "    <button class=\"colab-df-convert\" onclick=\"convertToInteractive('df-fbabb229-b6ab-43b4-97d6-867fd2354ab6')\"\n",
              "            title=\"Convert this dataframe to an interactive table.\"\n",
              "            style=\"display:none;\">\n",
              "\n",
              "  <svg xmlns=\"http://www.w3.org/2000/svg\" height=\"24px\" viewBox=\"0 -960 960 960\">\n",
              "    <path d=\"M120-120v-720h720v720H120Zm60-500h600v-160H180v160Zm220 220h160v-160H400v160Zm0 220h160v-160H400v160ZM180-400h160v-160H180v160Zm440 0h160v-160H620v160ZM180-180h160v-160H180v160Zm440 0h160v-160H620v160Z\"/>\n",
              "  </svg>\n",
              "    </button>\n",
              "\n",
              "  <style>\n",
              "    .colab-df-container {\n",
              "      display:flex;\n",
              "      gap: 12px;\n",
              "    }\n",
              "\n",
              "    .colab-df-convert {\n",
              "      background-color: #E8F0FE;\n",
              "      border: none;\n",
              "      border-radius: 50%;\n",
              "      cursor: pointer;\n",
              "      display: none;\n",
              "      fill: #1967D2;\n",
              "      height: 32px;\n",
              "      padding: 0 0 0 0;\n",
              "      width: 32px;\n",
              "    }\n",
              "\n",
              "    .colab-df-convert:hover {\n",
              "      background-color: #E2EBFA;\n",
              "      box-shadow: 0px 1px 2px rgba(60, 64, 67, 0.3), 0px 1px 3px 1px rgba(60, 64, 67, 0.15);\n",
              "      fill: #174EA6;\n",
              "    }\n",
              "\n",
              "    .colab-df-buttons div {\n",
              "      margin-bottom: 4px;\n",
              "    }\n",
              "\n",
              "    [theme=dark] .colab-df-convert {\n",
              "      background-color: #3B4455;\n",
              "      fill: #D2E3FC;\n",
              "    }\n",
              "\n",
              "    [theme=dark] .colab-df-convert:hover {\n",
              "      background-color: #434B5C;\n",
              "      box-shadow: 0px 1px 3px 1px rgba(0, 0, 0, 0.15);\n",
              "      filter: drop-shadow(0px 1px 2px rgba(0, 0, 0, 0.3));\n",
              "      fill: #FFFFFF;\n",
              "    }\n",
              "  </style>\n",
              "\n",
              "    <script>\n",
              "      const buttonEl =\n",
              "        document.querySelector('#df-fbabb229-b6ab-43b4-97d6-867fd2354ab6 button.colab-df-convert');\n",
              "      buttonEl.style.display =\n",
              "        google.colab.kernel.accessAllowed ? 'block' : 'none';\n",
              "\n",
              "      async function convertToInteractive(key) {\n",
              "        const element = document.querySelector('#df-fbabb229-b6ab-43b4-97d6-867fd2354ab6');\n",
              "        const dataTable =\n",
              "          await google.colab.kernel.invokeFunction('convertToInteractive',\n",
              "                                                    [key], {});\n",
              "        if (!dataTable) return;\n",
              "\n",
              "        const docLinkHtml = 'Like what you see? Visit the ' +\n",
              "          '<a target=\"_blank\" href=https://colab.research.google.com/notebooks/data_table.ipynb>data table notebook</a>'\n",
              "          + ' to learn more about interactive tables.';\n",
              "        element.innerHTML = '';\n",
              "        dataTable['output_type'] = 'display_data';\n",
              "        await google.colab.output.renderOutput(dataTable, element);\n",
              "        const docLink = document.createElement('div');\n",
              "        docLink.innerHTML = docLinkHtml;\n",
              "        element.appendChild(docLink);\n",
              "      }\n",
              "    </script>\n",
              "  </div>\n",
              "\n",
              "\n",
              "<div id=\"df-5004fda4-c1d4-4535-9ccf-e64f92327215\">\n",
              "  <button class=\"colab-df-quickchart\" onclick=\"quickchart('df-5004fda4-c1d4-4535-9ccf-e64f92327215')\"\n",
              "            title=\"Suggest charts\"\n",
              "            style=\"display:none;\">\n",
              "\n",
              "<svg xmlns=\"http://www.w3.org/2000/svg\" height=\"24px\"viewBox=\"0 0 24 24\"\n",
              "     width=\"24px\">\n",
              "    <g>\n",
              "        <path d=\"M19 3H5c-1.1 0-2 .9-2 2v14c0 1.1.9 2 2 2h14c1.1 0 2-.9 2-2V5c0-1.1-.9-2-2-2zM9 17H7v-7h2v7zm4 0h-2V7h2v10zm4 0h-2v-4h2v4z\"/>\n",
              "    </g>\n",
              "</svg>\n",
              "  </button>\n",
              "\n",
              "<style>\n",
              "  .colab-df-quickchart {\n",
              "      --bg-color: #E8F0FE;\n",
              "      --fill-color: #1967D2;\n",
              "      --hover-bg-color: #E2EBFA;\n",
              "      --hover-fill-color: #174EA6;\n",
              "      --disabled-fill-color: #AAA;\n",
              "      --disabled-bg-color: #DDD;\n",
              "  }\n",
              "\n",
              "  [theme=dark] .colab-df-quickchart {\n",
              "      --bg-color: #3B4455;\n",
              "      --fill-color: #D2E3FC;\n",
              "      --hover-bg-color: #434B5C;\n",
              "      --hover-fill-color: #FFFFFF;\n",
              "      --disabled-bg-color: #3B4455;\n",
              "      --disabled-fill-color: #666;\n",
              "  }\n",
              "\n",
              "  .colab-df-quickchart {\n",
              "    background-color: var(--bg-color);\n",
              "    border: none;\n",
              "    border-radius: 50%;\n",
              "    cursor: pointer;\n",
              "    display: none;\n",
              "    fill: var(--fill-color);\n",
              "    height: 32px;\n",
              "    padding: 0;\n",
              "    width: 32px;\n",
              "  }\n",
              "\n",
              "  .colab-df-quickchart:hover {\n",
              "    background-color: var(--hover-bg-color);\n",
              "    box-shadow: 0 1px 2px rgba(60, 64, 67, 0.3), 0 1px 3px 1px rgba(60, 64, 67, 0.15);\n",
              "    fill: var(--button-hover-fill-color);\n",
              "  }\n",
              "\n",
              "  .colab-df-quickchart-complete:disabled,\n",
              "  .colab-df-quickchart-complete:disabled:hover {\n",
              "    background-color: var(--disabled-bg-color);\n",
              "    fill: var(--disabled-fill-color);\n",
              "    box-shadow: none;\n",
              "  }\n",
              "\n",
              "  .colab-df-spinner {\n",
              "    border: 2px solid var(--fill-color);\n",
              "    border-color: transparent;\n",
              "    border-bottom-color: var(--fill-color);\n",
              "    animation:\n",
              "      spin 1s steps(1) infinite;\n",
              "  }\n",
              "\n",
              "  @keyframes spin {\n",
              "    0% {\n",
              "      border-color: transparent;\n",
              "      border-bottom-color: var(--fill-color);\n",
              "      border-left-color: var(--fill-color);\n",
              "    }\n",
              "    20% {\n",
              "      border-color: transparent;\n",
              "      border-left-color: var(--fill-color);\n",
              "      border-top-color: var(--fill-color);\n",
              "    }\n",
              "    30% {\n",
              "      border-color: transparent;\n",
              "      border-left-color: var(--fill-color);\n",
              "      border-top-color: var(--fill-color);\n",
              "      border-right-color: var(--fill-color);\n",
              "    }\n",
              "    40% {\n",
              "      border-color: transparent;\n",
              "      border-right-color: var(--fill-color);\n",
              "      border-top-color: var(--fill-color);\n",
              "    }\n",
              "    60% {\n",
              "      border-color: transparent;\n",
              "      border-right-color: var(--fill-color);\n",
              "    }\n",
              "    80% {\n",
              "      border-color: transparent;\n",
              "      border-right-color: var(--fill-color);\n",
              "      border-bottom-color: var(--fill-color);\n",
              "    }\n",
              "    90% {\n",
              "      border-color: transparent;\n",
              "      border-bottom-color: var(--fill-color);\n",
              "    }\n",
              "  }\n",
              "</style>\n",
              "\n",
              "  <script>\n",
              "    async function quickchart(key) {\n",
              "      const quickchartButtonEl =\n",
              "        document.querySelector('#' + key + ' button');\n",
              "      quickchartButtonEl.disabled = true;  // To prevent multiple clicks.\n",
              "      quickchartButtonEl.classList.add('colab-df-spinner');\n",
              "      try {\n",
              "        const charts = await google.colab.kernel.invokeFunction(\n",
              "            'suggestCharts', [key], {});\n",
              "      } catch (error) {\n",
              "        console.error('Error during call to suggestCharts:', error);\n",
              "      }\n",
              "      quickchartButtonEl.classList.remove('colab-df-spinner');\n",
              "      quickchartButtonEl.classList.add('colab-df-quickchart-complete');\n",
              "    }\n",
              "    (() => {\n",
              "      let quickchartButtonEl =\n",
              "        document.querySelector('#df-5004fda4-c1d4-4535-9ccf-e64f92327215 button');\n",
              "      quickchartButtonEl.style.display =\n",
              "        google.colab.kernel.accessAllowed ? 'block' : 'none';\n",
              "    })();\n",
              "  </script>\n",
              "</div>\n",
              "\n",
              "    </div>\n",
              "  </div>\n"
            ],
            "application/vnd.google.colaboratory.intrinsic+json": {
              "type": "dataframe",
              "variable_name": "fish",
              "summary": "{\n  \"name\": \"fish\",\n  \"rows\": 159,\n  \"fields\": [\n    {\n      \"column\": \"Species\",\n      \"properties\": {\n        \"dtype\": \"category\",\n        \"num_unique_values\": 7,\n        \"samples\": [\n          \"Bream\",\n          \"Roach\",\n          \"Pike\"\n        ],\n        \"semantic_type\": \"\",\n        \"description\": \"\"\n      }\n    },\n    {\n      \"column\": \"Weight\",\n      \"properties\": {\n        \"dtype\": \"number\",\n        \"std\": 357.9783165508931,\n        \"min\": 0.0,\n        \"max\": 1650.0,\n        \"num_unique_values\": 101,\n        \"samples\": [\n          770.0,\n          51.5,\n          197.0\n        ],\n        \"semantic_type\": \"\",\n        \"description\": \"\"\n      }\n    },\n    {\n      \"column\": \"Length\",\n      \"properties\": {\n        \"dtype\": \"number\",\n        \"std\": 10.716328098884247,\n        \"min\": 8.4,\n        \"max\": 63.4,\n        \"num_unique_values\": 93,\n        \"samples\": [\n          14.7,\n          18.8,\n          19.6\n        ],\n        \"semantic_type\": \"\",\n        \"description\": \"\"\n      }\n    },\n    {\n      \"column\": \"Diagonal\",\n      \"properties\": {\n        \"dtype\": \"number\",\n        \"std\": 11.610245832690964,\n        \"min\": 8.8,\n        \"max\": 68.0,\n        \"num_unique_values\": 124,\n        \"samples\": [\n          39.2,\n          27.2,\n          23.1\n        ],\n        \"semantic_type\": \"\",\n        \"description\": \"\"\n      }\n    },\n    {\n      \"column\": \"Height\",\n      \"properties\": {\n        \"dtype\": \"number\",\n        \"std\": 4.286207619968867,\n        \"min\": 1.7284,\n        \"max\": 18.957,\n        \"num_unique_values\": 154,\n        \"samples\": [\n          15.438,\n          7.293,\n          2.8728\n        ],\n        \"semantic_type\": \"\",\n        \"description\": \"\"\n      }\n    },\n    {\n      \"column\": \"Width\",\n      \"properties\": {\n        \"dtype\": \"number\",\n        \"std\": 1.6858038699921671,\n        \"min\": 1.0476,\n        \"max\": 8.142,\n        \"num_unique_values\": 152,\n        \"samples\": [\n          3.1571,\n          1.3936,\n          3.6835\n        ],\n        \"semantic_type\": \"\",\n        \"description\": \"\"\n      }\n    }\n  ]\n}"
            }
          },
          "metadata": {},
          "execution_count": 1
        }
      ]
    },
    {
      "cell_type": "code",
      "source": [
        "print(pd.unique(fish['Species']))   # 유니크하게 종류를 출력"
      ],
      "metadata": {
        "colab": {
          "base_uri": "https://localhost:8080/"
        },
        "id": "fhnw-jaL1nCd",
        "outputId": "e535480c-e59f-4bc7-fc30-023679c05570"
      },
      "execution_count": 2,
      "outputs": [
        {
          "output_type": "stream",
          "name": "stdout",
          "text": [
            "['Bream' 'Roach' 'Whitefish' 'Parkki' 'Perch' 'Pike' 'Smelt']\n"
          ]
        }
      ]
    },
    {
      "cell_type": "code",
      "source": [
        "# Bream : 도미\n",
        "# Roach : 대구\n",
        "# Whitefish : 잉어\n",
        "# Parkki : 붕어\n",
        "# Perch : 농어\n",
        "# Pike : 감물치\n",
        "# Smelt : 빙어\n",
        "\n",
        "# 7개의 종류의 어종이 분포되어 있음\n",
        "\n",
        "# 분석용 입력 리스트값 생성\n",
        "fish_input = fish[['Weight', 'Length', 'Diagonal', 'Height', 'Width']].to_numpy()\n",
        "\n",
        "# 원하는 필드를 넣어서 필터링\n",
        "print(fish_input[:5])   # 앞에서부터 5개만 출력"
      ],
      "metadata": {
        "colab": {
          "base_uri": "https://localhost:8080/"
        },
        "id": "gpXbb8UU2BCb",
        "outputId": "2dfaf1ec-b31d-48d4-8752-fa15df09bb0b"
      },
      "execution_count": 3,
      "outputs": [
        {
          "output_type": "stream",
          "name": "stdout",
          "text": [
            "[[242.      25.4     30.      11.52     4.02  ]\n",
            " [290.      26.3     31.2     12.48     4.3056]\n",
            " [340.      26.5     31.1     12.3778   4.6961]\n",
            " [363.      29.      33.5     12.73     4.4555]\n",
            " [430.      29.      34.      12.444    5.134 ]]\n"
          ]
        }
      ]
    },
    {
      "cell_type": "code",
      "source": [
        "# 정답 리스트 생성\n",
        "fish_target = fish['Species'].to_numpy()\n",
        "# fish[['Species']] 이렇게 하면 2차원 배열이 된다.(금지)\n",
        "print(fish_target[:5])"
      ],
      "metadata": {
        "colab": {
          "base_uri": "https://localhost:8080/"
        },
        "id": "FPxa0OFJ3mEo",
        "outputId": "7fce0a52-af3c-4189-cf01-e77979a516af"
      },
      "execution_count": 4,
      "outputs": [
        {
          "output_type": "stream",
          "name": "stdout",
          "text": [
            "['Bream' 'Bream' 'Bream' 'Bream' 'Bream']\n"
          ]
        }
      ]
    },
    {
      "cell_type": "code",
      "source": [
        "# 훈련 세트 생성하기\n",
        "\n",
        "from sklearn.model_selection import train_test_split\n",
        "\n",
        "train_input, test_input, train_target, test_target = train_test_split(\n",
        "    fish_input, fish_target, random_state=42)\n",
        "\n",
        "print(train_input.shape, test_input.shape)\n",
        "\n",
        "# 훈련용 119개의 5개의 특성\n",
        "# 테스트용 40개의 5개의 특성"
      ],
      "metadata": {
        "colab": {
          "base_uri": "https://localhost:8080/"
        },
        "id": "HiIvKrhj4De2",
        "outputId": "92c367d6-da82-4753-98f4-f696d6d8ae66"
      },
      "execution_count": 5,
      "outputs": [
        {
          "output_type": "stream",
          "name": "stdout",
          "text": [
            "(119, 5) (40, 5)\n"
          ]
        }
      ]
    },
    {
      "cell_type": "code",
      "source": [
        "from sklearn.preprocessing import StandardScaler\n",
        "\n",
        "ss = StandardScaler()   # 사이킷런의 전처리용(스케일조정 : 표준점수)\n",
        "ss.fit(train_input)\n",
        "train_scaled = ss.transform(train_input)\n",
        "test_scaled = ss.transform(test_input)\n",
        "\n",
        "print(train_scaled[:5])"
      ],
      "metadata": {
        "colab": {
          "base_uri": "https://localhost:8080/"
        },
        "id": "RtZOzt-L5FBN",
        "outputId": "eff75e5c-6fe6-4ff8-9d42-ab9e84109a7f"
      },
      "execution_count": 7,
      "outputs": [
        {
          "output_type": "stream",
          "name": "stdout",
          "text": [
            "[[ 0.91965782  0.60943175  0.81041221  1.85194896  1.00075672]\n",
            " [ 0.30041219  1.54653445  1.45316551 -0.46981663  0.27291745]\n",
            " [-1.0858536  -1.68646987 -1.70848587 -1.70159849 -2.0044758 ]\n",
            " [-0.79734143 -0.60880176 -0.67486907 -0.82480589 -0.27631471]\n",
            " [-0.71289885 -0.73062511 -0.70092664 -0.0802298  -0.7033869 ]]\n"
          ]
        }
      ]
    },
    {
      "cell_type": "code",
      "source": [
        "# k-최근접 이웃 분류기의 확률 예측\n",
        "from sklearn.neighbors import KNeighborsClassifier # 분류용\n",
        "\n",
        "kn = KNeighborsClassifier(n_neighbors=3)    # 이웃 3개 참고\n",
        "kn.fit(train_scaled, train_target)          # 훈련시작\n",
        "\n",
        "print(kn.score(train_scaled, train_target))     # 훈련점수 : 약 0.89\n",
        "print(kn.score(test_scaled, test_target))       # 테스트 점수 : 0.85"
      ],
      "metadata": {
        "colab": {
          "base_uri": "https://localhost:8080/"
        },
        "id": "9NVDta8S6RoR",
        "outputId": "3fdf8194-b847-46df-9924-95e1a8d4d8d5"
      },
      "execution_count": 8,
      "outputs": [
        {
          "output_type": "stream",
          "name": "stdout",
          "text": [
            "0.8907563025210085\n",
            "0.85\n"
          ]
        }
      ]
    },
    {
      "cell_type": "code",
      "source": [
        "# 전에는 0과 1을 찾는 이진분류 였지만, 지금은 타켓에 7개의 어종을 넣었다.\n",
        "\n",
        "print(kn.classes_)\n",
        "# 7개의 생선 종류가 들어있다. 2개 이상 클래스가 포함된 문제를 다중 분류라고 한다."
      ],
      "metadata": {
        "colab": {
          "base_uri": "https://localhost:8080/"
        },
        "id": "km4lpku27Im7",
        "outputId": "a2ac6fa2-7f5e-429b-d8d9-9d7cb7da2a1a"
      },
      "execution_count": 9,
      "outputs": [
        {
          "output_type": "stream",
          "name": "stdout",
          "text": [
            "['Bream' 'Parkki' 'Perch' 'Pike' 'Roach' 'Smelt' 'Whitefish']\n"
          ]
        }
      ]
    },
    {
      "cell_type": "code",
      "source": [
        "print(kn.predict(test_scaled[:5]))\n",
        "# 처음 5개 샘플을 타겟값 예측 해보면 아래와 같다."
      ],
      "metadata": {
        "colab": {
          "base_uri": "https://localhost:8080/"
        },
        "id": "6SPVgik-7r0s",
        "outputId": "6fc77f44-c6f8-49b9-aaf1-f6a11b58fbfb"
      },
      "execution_count": 10,
      "outputs": [
        {
          "output_type": "stream",
          "name": "stdout",
          "text": [
            "['Perch' 'Smelt' 'Pike' 'Perch' 'Perch']\n"
          ]
        }
      ]
    },
    {
      "cell_type": "code",
      "source": [
        "print(test_scaled[:5])"
      ],
      "metadata": {
        "colab": {
          "base_uri": "https://localhost:8080/"
        },
        "id": "nRPDdnjW733i",
        "outputId": "69ed3d9e-9538-4a5d-a5fa-0bb2035cdde6"
      },
      "execution_count": 11,
      "outputs": [
        {
          "output_type": "stream",
          "name": "stdout",
          "text": [
            "[[-0.88741352 -0.91804565 -1.03098914 -0.90464451 -0.80762518]\n",
            " [-1.06924656 -1.50842035 -1.54345461 -1.58849582 -1.93803151]\n",
            " [-0.54401367  0.35641402  0.30663259 -0.8135697  -0.65388895]\n",
            " [-0.34698097 -0.23396068 -0.22320459 -0.11905019 -0.12233464]\n",
            " [-0.68475132 -0.51509149 -0.58801052 -0.8998784  -0.50124996]]\n"
          ]
        }
      ]
    },
    {
      "cell_type": "code",
      "source": [
        "import numpy as np\n",
        "\n",
        "proba = kn.predict_proba(test_scaled[:5])\n",
        "# 사이킷런이 번거로운 연산을 수행해주기 때문에 쉽게 결과가 나온다.\n",
        "\n",
        "print(np.round(proba, decimals=4))\n",
        "# 소수점 네번째 자리 까지 표시(다섯번째 자리에서 반올림)\n",
        "# Bream Parkki Perch Pike   Roach   Smelt Whitefish  순서"
      ],
      "metadata": {
        "colab": {
          "base_uri": "https://localhost:8080/"
        },
        "id": "kRznYDnu8JiU",
        "outputId": "83290f86-88d8-4e44-e309-9353440706da"
      },
      "execution_count": 13,
      "outputs": [
        {
          "output_type": "stream",
          "name": "stdout",
          "text": [
            "[[0.     0.     1.     0.     0.     0.     0.    ]\n",
            " [0.     0.     0.     0.     0.     1.     0.    ]\n",
            " [0.     0.     0.     1.     0.     0.     0.    ]\n",
            " [0.     0.     0.6667 0.     0.3333 0.     0.    ]\n",
            " [0.     0.     0.6667 0.     0.3333 0.     0.    ]]\n"
          ]
        }
      ]
    },
    {
      "cell_type": "markdown",
      "source": [
        "---\n",
        "---\n",
        "![image.png](data:image/png;base64,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)\n",
        "\n",
        "![image.png](data:image/png;base64,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)\n",
        "\n",
        "\n"
      ],
      "metadata": {
        "id": "Vc0IMlNC9SS7"
      }
    },
    {
      "cell_type": "code",
      "source": [
        "# 타겟값 예측한 5개의 값으로 Perch = 1(100%)이 나오고 Smelt = 1(100%), Perch(0.667%) 등 이렇게 확률이 나온다."
      ],
      "metadata": {
        "id": "HPGikUhy9Z7a"
      },
      "execution_count": null,
      "outputs": []
    },
    {
      "cell_type": "code",
      "source": [
        "# 이 모델이 계산한 확률이 가장 가까운 이웃의 비율이 맞는지 확인이 필요하다.\n",
        "distances, indexes = kn.kneighbors(test_scaled[3:4])    # 4번째 값을 자세히 보자.\n",
        "print(train_target[indexes])\n",
        "\n",
        "#                 Perch           Roach\n",
        "# [0.     0.     0.6667 0.     0.3333 0.     0.    ]\n",
        "# Perch 2/3, Roach 1/3 이기 때문에 7개를 확률로 제공하지 못함\n",
        "# 이유는 n=neighbors=3 으로 했기 때문에 가장 가까운걸 근접"
      ],
      "metadata": {
        "colab": {
          "base_uri": "https://localhost:8080/"
        },
        "id": "Eu35nl6GAhAw",
        "outputId": "9ba908bb-f37a-430c-f36f-cc7e9d7dd968"
      },
      "execution_count": 14,
      "outputs": [
        {
          "output_type": "stream",
          "name": "stdout",
          "text": [
            "[['Roach' 'Perch' 'Perch']]\n"
          ]
        }
      ]
    },
    {
      "cell_type": "code",
      "source": [
        "# 알고리즘 변경 해보자 : 로지스틱 회귀(LogisticRegression)\n",
        "# 로지스틱 회귀는 사이킷런에서 제공함. from sklearn.linear_model import LogisticRegression\n",
        "# 로지스틱 회귀는 이름이 회귀이지만 분류 모델이라는 점.\n",
        "# 선형회귀와 동일하게 선형방정식을 학습한다.\n",
        "\n",
        "# z = a * (Weight)  + b * (Length) + c * (Diagonal) + d * (Height) + e * (Width) + f\n",
        "# a, b, c, d, e, f는 각 항목에 대한 가중치(중요도, 계수)이다.\n",
        "# z는 어떤 값도 가능하지만, 확률이 되려면 0 ~ 1 (0% ~ 100%) 사이값\n",
        "# z가 아주 큰 음수일때 0, 아주 큰 양수일때 1이 되도록 바꾸는 방법은 시그모이드 함수, 로지스틱 함수가 있다."
      ],
      "metadata": {
        "id": "jprbJhMGBwRZ"
      },
      "execution_count": null,
      "outputs": []
    },
    {
      "cell_type": "code",
      "source": [
        "import numpy as np\n",
        "import matplotlib.pyplot as plt\n",
        "\n",
        "# 시그모이드 함수용 : z가 무한하게 큰 음수일 경우 0에 가까워진다. z가 무한하게 큰 양 수일 경우 1에 가까워진다.\n",
        "\n",
        "z = np.arange(-5, 5 , 0.1)  # -5 ~ 5까지 0.1 간격으로 배열 생성\n",
        "phi = 1 / (1 + np.exp(-z))  # np.exp() 함수로 시그모이드 적용\n",
        "\n",
        "plt.plot(z, phi)\n",
        "plt.xlabel('z')\n",
        "plt.ylabel('phi')\n",
        "plt.show()"
      ],
      "metadata": {
        "colab": {
          "base_uri": "https://localhost:8080/",
          "height": 449
        },
        "id": "JyMV8yQSEIwE",
        "outputId": "82713ed3-5387-46d2-b145-8ea60ca9ddc7"
      },
      "execution_count": 15,
      "outputs": [
        {
          "output_type": "display_data",
          "data": {
            "text/plain": [
              "<Figure size 640x480 with 1 Axes>"
            ],
            "image/png": "[encoded data removed]"
          },
          "metadata": {}
        }
      ]
    },
    {
      "cell_type": "code",
      "source": [
        "# 선형 방정식의 출력 z의 음수를 사용하여 자연 상수 e를 거듭제곱하고 1을 더한 값의 역수를 취한다.\n",
        "# 이렇게 하면 0 ~ 1 사이 값을 0 ~ 100% 확률로 해석할 수 있다.\n",
        "\n",
        "# 훈련 전에 2진분류부터 알아보자.\n",
        "# 2진분류인 경우에는 시그모이드 함수 출력이 0.5 보다 크면 양성, 0.5보다 작으면 음성으로 판단\n",
        "# 단, 딱 0.5가 나오면 라이브러리마다 다른데 사이킷런은 음성으로 판단한다."
      ],
      "metadata": {
        "id": "XQXUsD7fFGq7"
      },
      "execution_count": null,
      "outputs": []
    },
    {
      "cell_type": "code",
      "source": [
        "# 로지스틱 회귀로 이진 분류 수행 테스트\n",
        "\n",
        "# 넘파이 배열은 True, False 값을 전달하여 행을 선택할 수 있다. (Boolean Indexing)\n",
        "char_arr = np.array(['A', 'B', 'C', 'D', 'E'])\n",
        "print(char_arr[[True, False, True, False, False]])\n",
        "\n",
        "# 결과가 True인 값만 출력이 된다."
      ],
      "metadata": {
        "colab": {
          "base_uri": "https://localhost:8080/"
        },
        "id": "jmw-nGvIGKhX",
        "outputId": "1d79f683-23dd-42c5-86f4-8605374bafd2"
      },
      "execution_count": 16,
      "outputs": [
        {
          "output_type": "stream",
          "name": "stdout",
          "text": [
            "['A' 'C']\n"
          ]
        }
      ]
    },
    {
      "cell_type": "code",
      "source": [
        "# 위와 같은 방식으로 훈련 세트에서 도미(Bream)와 빙어(Smelt)의 행만 골라내어 보자.\n",
        "bream_smelt_indexes = (train_target == 'Bream') | (train_target == 'Smelt')\n",
        "#                                       Bream(도미) or Smelt(빙어)\n",
        "\n",
        "# Bream_smelt_indexes에 도미와 빙어일 경우 True이고 나머지는 False가 들어 있다.\n",
        "# 이 배열을 사용해서 train_scaled, train_target 배열에 인덱싱을 적용하면\n",
        "train_bream_smelt = train_scaled[bream_smelt_indexes]\n",
        "target_bream_smelt = train_target[bream_smelt_indexes]\n",
        "# 손쉽게 도미와 빙어 데이터만 골라낼 수 있다."
      ],
      "metadata": {
        "id": "0U4u2dVwG6kP"
      },
      "execution_count": 18,
      "outputs": []
    },
    {
      "cell_type": "code",
      "source": [
        "# 사이킷런에 선형 모델에 로지스틱 회귀 클래스 사용\n",
        "\n",
        "from sklearn.linear_model import LogisticRegression\n",
        "\n",
        "lr = LogisticRegression() # 로지스틱 회귀 객체를 변수에 연결\n",
        "lr.fit(train_bream_smelt, target_bream_smelt)   # 훈련 시작 ! -> 2진분류로 나온다"
      ],
      "metadata": {
        "colab": {
          "base_uri": "https://localhost:8080/",
          "height": 80
        },
        "id": "BrwqMQ3hKsjP",
        "outputId": "5cde78de-4603-47a2-cdaa-e50011d6987b"
      },
      "execution_count": 19,
      "outputs": [
        {
          "output_type": "execute_result",
          "data": {
            "text/plain": [
              "LogisticRegression()"
            ],
            "text/html": [
              "<style>#sk-container-id-1 {\n",
              "  /* Definition of color scheme common for light and dark mode */\n",
              "  --sklearn-color-text: #000;\n",
              "  --sklearn-color-text-muted: #666;\n",
              "  --sklearn-color-line: gray;\n",
              "  /* Definition of color scheme for unfitted estimators */\n",
              "  --sklearn-color-unfitted-level-0: #fff5e6;\n",
              "  --sklearn-color-unfitted-level-1: #f6e4d2;\n",
              "  --sklearn-color-unfitted-level-2: #ffe0b3;\n",
              "  --sklearn-color-unfitted-level-3: chocolate;\n",
              "  /* Definition of color scheme for fitted estimators */\n",
              "  --sklearn-color-fitted-level-0: #f0f8ff;\n",
              "  --sklearn-color-fitted-level-1: #d4ebff;\n",
              "  --sklearn-color-fitted-level-2: #b3dbfd;\n",
              "  --sklearn-color-fitted-level-3: cornflowerblue;\n",
              "\n",
              "  /* Specific color for light theme */\n",
              "  --sklearn-color-text-on-default-background: var(--sg-text-color, var(--theme-code-foreground, var(--jp-content-font-color1, black)));\n",
              "  --sklearn-color-background: var(--sg-background-color, var(--theme-background, var(--jp-layout-color0, white)));\n",
              "  --sklearn-color-border-box: var(--sg-text-color, var(--theme-code-foreground, var(--jp-content-font-color1, black)));\n",
              "  --sklearn-color-icon: #696969;\n",
              "\n",
              "  @media (prefers-color-scheme: dark) {\n",
              "    /* Redefinition of color scheme for dark theme */\n",
              "    --sklearn-color-text-on-default-background: var(--sg-text-color, var(--theme-code-foreground, var(--jp-content-font-color1, white)));\n",
              "    --sklearn-color-background: var(--sg-background-color, var(--theme-background, var(--jp-layout-color0, #111)));\n",
              "    --sklearn-color-border-box: var(--sg-text-color, var(--theme-code-foreground, var(--jp-content-font-color1, white)));\n",
              "    --sklearn-color-icon: #878787;\n",
              "  }\n",
              "}\n",
              "\n",
              "#sk-container-id-1 {\n",
              "  color: var(--sklearn-color-text);\n",
              "}\n",
              "\n",
              "#sk-container-id-1 pre {\n",
              "  padding: 0;\n",
              "}\n",
              "\n",
              "#sk-container-id-1 input.sk-hidden--visually {\n",
              "  border: 0;\n",
              "  clip: rect(1px 1px 1px 1px);\n",
              "  clip: rect(1px, 1px, 1px, 1px);\n",
              "  height: 1px;\n",
              "  margin: -1px;\n",
              "  overflow: hidden;\n",
              "  padding: 0;\n",
              "  position: absolute;\n",
              "  width: 1px;\n",
              "}\n",
              "\n",
              "#sk-container-id-1 div.sk-dashed-wrapped {\n",
              "  border: 1px dashed var(--sklearn-color-line);\n",
              "  margin: 0 0.4em 0.5em 0.4em;\n",
              "  box-sizing: border-box;\n",
              "  padding-bottom: 0.4em;\n",
              "  background-color: var(--sklearn-color-background);\n",
              "}\n",
              "\n",
              "#sk-container-id-1 div.sk-container {\n",
              "  /* jupyter's `normalize.less` sets `[hidden] { display: none; }`\n",
              "     but bootstrap.min.css set `[hidden] { display: none !important; }`\n",
              "     so we also need the `!important` here to be able to override the\n",
              "     default hidden behavior on the sphinx rendered scikit-learn.org.\n",
              "     See: https://github.com/scikit-learn/scikit-learn/issues/21755 */\n",
              "  display: inline-block !important;\n",
              "  position: relative;\n",
              "}\n",
              "\n",
              "#sk-container-id-1 div.sk-text-repr-fallback {\n",
              "  display: none;\n",
              "}\n",
              "\n",
              "div.sk-parallel-item,\n",
              "div.sk-serial,\n",
              "div.sk-item {\n",
              "  /* draw centered vertical line to link estimators */\n",
              "  background-image: linear-gradient(var(--sklearn-color-text-on-default-background), var(--sklearn-color-text-on-default-background));\n",
              "  background-size: 2px 100%;\n",
              "  background-repeat: no-repeat;\n",
              "  background-position: center center;\n",
              "}\n",
              "\n",
              "/* Parallel-specific style estimator block */\n",
              "\n",
              "#sk-container-id-1 div.sk-parallel-item::after {\n",
              "  content: \"\";\n",
              "  width: 100%;\n",
              "  border-bottom: 2px solid var(--sklearn-color-text-on-default-background);\n",
              "  flex-grow: 1;\n",
              "}\n",
              "\n",
              "#sk-container-id-1 div.sk-parallel {\n",
              "  display: flex;\n",
              "  align-items: stretch;\n",
              "  justify-content: center;\n",
              "  background-color: var(--sklearn-color-background);\n",
              "  position: relative;\n",
              "}\n",
              "\n",
              "#sk-container-id-1 div.sk-parallel-item {\n",
              "  display: flex;\n",
              "  flex-direction: column;\n",
              "}\n",
              "\n",
              "#sk-container-id-1 div.sk-parallel-item:first-child::after {\n",
              "  align-self: flex-end;\n",
              "  width: 50%;\n",
              "}\n",
              "\n",
              "#sk-container-id-1 div.sk-parallel-item:last-child::after {\n",
              "  align-self: flex-start;\n",
              "  width: 50%;\n",
              "}\n",
              "\n",
              "#sk-container-id-1 div.sk-parallel-item:only-child::after {\n",
              "  width: 0;\n",
              "}\n",
              "\n",
              "/* Serial-specific style estimator block */\n",
              "\n",
              "#sk-container-id-1 div.sk-serial {\n",
              "  display: flex;\n",
              "  flex-direction: column;\n",
              "  align-items: center;\n",
              "  background-color: var(--sklearn-color-background);\n",
              "  padding-right: 1em;\n",
              "  padding-left: 1em;\n",
              "}\n",
              "\n",
              "\n",
              "/* Toggleable style: style used for estimator/Pipeline/ColumnTransformer box that is\n",
              "clickable and can be expanded/collapsed.\n",
              "- Pipeline and ColumnTransformer use this feature and define the default style\n",
              "- Estimators will overwrite some part of the style using the `sk-estimator` class\n",
              "*/\n",
              "\n",
              "/* Pipeline and ColumnTransformer style (default) */\n",
              "\n",
              "#sk-container-id-1 div.sk-toggleable {\n",
              "  /* Default theme specific background. It is overwritten whether we have a\n",
              "  specific estimator or a Pipeline/ColumnTransformer */\n",
              "  background-color: var(--sklearn-color-background);\n",
              "}\n",
              "\n",
              "/* Toggleable label */\n",
              "#sk-container-id-1 label.sk-toggleable__label {\n",
              "  cursor: pointer;\n",
              "  display: flex;\n",
              "  width: 100%;\n",
              "  margin-bottom: 0;\n",
              "  padding: 0.5em;\n",
              "  box-sizing: border-box;\n",
              "  text-align: center;\n",
              "  align-items: start;\n",
              "  justify-content: space-between;\n",
              "  gap: 0.5em;\n",
              "}\n",
              "\n",
              "#sk-container-id-1 label.sk-toggleable__label .caption {\n",
              "  font-size: 0.6rem;\n",
              "  font-weight: lighter;\n",
              "  color: var(--sklearn-color-text-muted);\n",
              "}\n",
              "\n",
              "#sk-container-id-1 label.sk-toggleable__label-arrow:before {\n",
              "  /* Arrow on the left of the label */\n",
              "  content: \"▸\";\n",
              "  float: left;\n",
              "  margin-right: 0.25em;\n",
              "  color: var(--sklearn-color-icon);\n",
              "}\n",
              "\n",
              "#sk-container-id-1 label.sk-toggleable__label-arrow:hover:before {\n",
              "  color: var(--sklearn-color-text);\n",
              "}\n",
              "\n",
              "/* Toggleable content - dropdown */\n",
              "\n",
              "#sk-container-id-1 div.sk-toggleable__content {\n",
              "  max-height: 0;\n",
              "  max-width: 0;\n",
              "  overflow: hidden;\n",
              "  text-align: left;\n",
              "  /* unfitted */\n",
              "  background-color: var(--sklearn-color-unfitted-level-0);\n",
              "}\n",
              "\n",
              "#sk-container-id-1 div.sk-toggleable__content.fitted {\n",
              "  /* fitted */\n",
              "  background-color: var(--sklearn-color-fitted-level-0);\n",
              "}\n",
              "\n",
              "#sk-container-id-1 div.sk-toggleable__content pre {\n",
              "  margin: 0.2em;\n",
              "  border-radius: 0.25em;\n",
              "  color: var(--sklearn-color-text);\n",
              "  /* unfitted */\n",
              "  background-color: var(--sklearn-color-unfitted-level-0);\n",
              "}\n",
              "\n",
              "#sk-container-id-1 div.sk-toggleable__content.fitted pre {\n",
              "  /* unfitted */\n",
              "  background-color: var(--sklearn-color-fitted-level-0);\n",
              "}\n",
              "\n",
              "#sk-container-id-1 input.sk-toggleable__control:checked~div.sk-toggleable__content {\n",
              "  /* Expand drop-down */\n",
              "  max-height: 200px;\n",
              "  max-width: 100%;\n",
              "  overflow: auto;\n",
              "}\n",
              "\n",
              "#sk-container-id-1 input.sk-toggleable__control:checked~label.sk-toggleable__label-arrow:before {\n",
              "  content: \"▾\";\n",
              "}\n",
              "\n",
              "/* Pipeline/ColumnTransformer-specific style */\n",
              "\n",
              "#sk-container-id-1 div.sk-label input.sk-toggleable__control:checked~label.sk-toggleable__label {\n",
              "  color: var(--sklearn-color-text);\n",
              "  background-color: var(--sklearn-color-unfitted-level-2);\n",
              "}\n",
              "\n",
              "#sk-container-id-1 div.sk-label.fitted input.sk-toggleable__control:checked~label.sk-toggleable__label {\n",
              "  background-color: var(--sklearn-color-fitted-level-2);\n",
              "}\n",
              "\n",
              "/* Estimator-specific style */\n",
              "\n",
              "/* Colorize estimator box */\n",
              "#sk-container-id-1 div.sk-estimator input.sk-toggleable__control:checked~label.sk-toggleable__label {\n",
              "  /* unfitted */\n",
              "  background-color: var(--sklearn-color-unfitted-level-2);\n",
              "}\n",
              "\n",
              "#sk-container-id-1 div.sk-estimator.fitted input.sk-toggleable__control:checked~label.sk-toggleable__label {\n",
              "  /* fitted */\n",
              "  background-color: var(--sklearn-color-fitted-level-2);\n",
              "}\n",
              "\n",
              "#sk-container-id-1 div.sk-label label.sk-toggleable__label,\n",
              "#sk-container-id-1 div.sk-label label {\n",
              "  /* The background is the default theme color */\n",
              "  color: var(--sklearn-color-text-on-default-background);\n",
              "}\n",
              "\n",
              "/* On hover, darken the color of the background */\n",
              "#sk-container-id-1 div.sk-label:hover label.sk-toggleable__label {\n",
              "  color: var(--sklearn-color-text);\n",
              "  background-color: var(--sklearn-color-unfitted-level-2);\n",
              "}\n",
              "\n",
              "/* Label box, darken color on hover, fitted */\n",
              "#sk-container-id-1 div.sk-label.fitted:hover label.sk-toggleable__label.fitted {\n",
              "  color: var(--sklearn-color-text);\n",
              "  background-color: var(--sklearn-color-fitted-level-2);\n",
              "}\n",
              "\n",
              "/* Estimator label */\n",
              "\n",
              "#sk-container-id-1 div.sk-label label {\n",
              "  font-family: monospace;\n",
              "  font-weight: bold;\n",
              "  display: inline-block;\n",
              "  line-height: 1.2em;\n",
              "}\n",
              "\n",
              "#sk-container-id-1 div.sk-label-container {\n",
              "  text-align: center;\n",
              "}\n",
              "\n",
              "/* Estimator-specific */\n",
              "#sk-container-id-1 div.sk-estimator {\n",
              "  font-family: monospace;\n",
              "  border: 1px dotted var(--sklearn-color-border-box);\n",
              "  border-radius: 0.25em;\n",
              "  box-sizing: border-box;\n",
              "  margin-bottom: 0.5em;\n",
              "  /* unfitted */\n",
              "  background-color: var(--sklearn-color-unfitted-level-0);\n",
              "}\n",
              "\n",
              "#sk-container-id-1 div.sk-estimator.fitted {\n",
              "  /* fitted */\n",
              "  background-color: var(--sklearn-color-fitted-level-0);\n",
              "}\n",
              "\n",
              "/* on hover */\n",
              "#sk-container-id-1 div.sk-estimator:hover {\n",
              "  /* unfitted */\n",
              "  background-color: var(--sklearn-color-unfitted-level-2);\n",
              "}\n",
              "\n",
              "#sk-container-id-1 div.sk-estimator.fitted:hover {\n",
              "  /* fitted */\n",
              "  background-color: var(--sklearn-color-fitted-level-2);\n",
              "}\n",
              "\n",
              "/* Specification for estimator info (e.g. \"i\" and \"?\") */\n",
              "\n",
              "/* Common style for \"i\" and \"?\" */\n",
              "\n",
              ".sk-estimator-doc-link,\n",
              "a:link.sk-estimator-doc-link,\n",
              "a:visited.sk-estimator-doc-link {\n",
              "  float: right;\n",
              "  font-size: smaller;\n",
              "  line-height: 1em;\n",
              "  font-family: monospace;\n",
              "  background-color: var(--sklearn-color-background);\n",
              "  border-radius: 1em;\n",
              "  height: 1em;\n",
              "  width: 1em;\n",
              "  text-decoration: none !important;\n",
              "  margin-left: 0.5em;\n",
              "  text-align: center;\n",
              "  /* unfitted */\n",
              "  border: var(--sklearn-color-unfitted-level-1) 1pt solid;\n",
              "  color: var(--sklearn-color-unfitted-level-1);\n",
              "}\n",
              "\n",
              ".sk-estimator-doc-link.fitted,\n",
              "a:link.sk-estimator-doc-link.fitted,\n",
              "a:visited.sk-estimator-doc-link.fitted {\n",
              "  /* fitted */\n",
              "  border: var(--sklearn-color-fitted-level-1) 1pt solid;\n",
              "  color: var(--sklearn-color-fitted-level-1);\n",
              "}\n",
              "\n",
              "/* On hover */\n",
              "div.sk-estimator:hover .sk-estimator-doc-link:hover,\n",
              ".sk-estimator-doc-link:hover,\n",
              "div.sk-label-container:hover .sk-estimator-doc-link:hover,\n",
              ".sk-estimator-doc-link:hover {\n",
              "  /* unfitted */\n",
              "  background-color: var(--sklearn-color-unfitted-level-3);\n",
              "  color: var(--sklearn-color-background);\n",
              "  text-decoration: none;\n",
              "}\n",
              "\n",
              "div.sk-estimator.fitted:hover .sk-estimator-doc-link.fitted:hover,\n",
              ".sk-estimator-doc-link.fitted:hover,\n",
              "div.sk-label-container:hover .sk-estimator-doc-link.fitted:hover,\n",
              ".sk-estimator-doc-link.fitted:hover {\n",
              "  /* fitted */\n",
              "  background-color: var(--sklearn-color-fitted-level-3);\n",
              "  color: var(--sklearn-color-background);\n",
              "  text-decoration: none;\n",
              "}\n",
              "\n",
              "/* Span, style for the box shown on hovering the info icon */\n",
              ".sk-estimator-doc-link span {\n",
              "  display: none;\n",
              "  z-index: 9999;\n",
              "  position: relative;\n",
              "  font-weight: normal;\n",
              "  right: .2ex;\n",
              "  padding: .5ex;\n",
              "  margin: .5ex;\n",
              "  width: min-content;\n",
              "  min-width: 20ex;\n",
              "  max-width: 50ex;\n",
              "  color: var(--sklearn-color-text);\n",
              "  box-shadow: 2pt 2pt 4pt #999;\n",
              "  /* unfitted */\n",
              "  background: var(--sklearn-color-unfitted-level-0);\n",
              "  border: .5pt solid var(--sklearn-color-unfitted-level-3);\n",
              "}\n",
              "\n",
              ".sk-estimator-doc-link.fitted span {\n",
              "  /* fitted */\n",
              "  background: var(--sklearn-color-fitted-level-0);\n",
              "  border: var(--sklearn-color-fitted-level-3);\n",
              "}\n",
              "\n",
              ".sk-estimator-doc-link:hover span {\n",
              "  display: block;\n",
              "}\n",
              "\n",
              "/* \"?\"-specific style due to the `<a>` HTML tag */\n",
              "\n",
              "#sk-container-id-1 a.estimator_doc_link {\n",
              "  float: right;\n",
              "  font-size: 1rem;\n",
              "  line-height: 1em;\n",
              "  font-family: monospace;\n",
              "  background-color: var(--sklearn-color-background);\n",
              "  border-radius: 1rem;\n",
              "  height: 1rem;\n",
              "  width: 1rem;\n",
              "  text-decoration: none;\n",
              "  /* unfitted */\n",
              "  color: var(--sklearn-color-unfitted-level-1);\n",
              "  border: var(--sklearn-color-unfitted-level-1) 1pt solid;\n",
              "}\n",
              "\n",
              "#sk-container-id-1 a.estimator_doc_link.fitted {\n",
              "  /* fitted */\n",
              "  border: var(--sklearn-color-fitted-level-1) 1pt solid;\n",
              "  color: var(--sklearn-color-fitted-level-1);\n",
              "}\n",
              "\n",
              "/* On hover */\n",
              "#sk-container-id-1 a.estimator_doc_link:hover {\n",
              "  /* unfitted */\n",
              "  background-color: var(--sklearn-color-unfitted-level-3);\n",
              "  color: var(--sklearn-color-background);\n",
              "  text-decoration: none;\n",
              "}\n",
              "\n",
              "#sk-container-id-1 a.estimator_doc_link.fitted:hover {\n",
              "  /* fitted */\n",
              "  background-color: var(--sklearn-color-fitted-level-3);\n",
              "}\n",
              "</style><div id=\"sk-container-id-1\" class=\"sk-top-container\"><div class=\"sk-text-repr-fallback\"><pre>LogisticRegression()</pre><b>In a Jupyter environment, please rerun this cell to show the HTML representation or trust the notebook. <br />On GitHub, the HTML representation is unable to render, please try loading this page with nbviewer.org.</b></div><div class=\"sk-container\" hidden><div class=\"sk-item\"><div class=\"sk-estimator fitted sk-toggleable\"><input class=\"sk-toggleable__control sk-hidden--visually\" id=\"sk-estimator-id-1\" type=\"checkbox\" checked><label for=\"sk-estimator-id-1\" class=\"sk-toggleable__label fitted sk-toggleable__label-arrow\"><div><div>LogisticRegression</div></div><div><a class=\"sk-estimator-doc-link fitted\" rel=\"noreferrer\" target=\"_blank\" href=\"https://scikit-learn.org/1.6/modules/generated/sklearn.linear_model.LogisticRegression.html\">?<span>Documentation for LogisticRegression</span></a><span class=\"sk-estimator-doc-link fitted\">i<span>Fitted</span></span></div></label><div class=\"sk-toggleable__content fitted\"><pre>LogisticRegression()</pre></div> </div></div></div></div>"
            ]
          },
          "metadata": {},
          "execution_count": 19
        }
      ]
    },
    {
      "cell_type": "code",
      "source": [
        "# train_bream_smelt 처음 5개의 값으로 결론을 보자.\n",
        "print(lr.predict(train_bream_smelt[:5]))    # 도미 4개, 빙어 1개"
      ],
      "metadata": {
        "colab": {
          "base_uri": "https://localhost:8080/"
        },
        "id": "H0OM2PnFLJb2",
        "outputId": "372fd9d2-fc64-42af-a339-7f02a8e8a914"
      },
      "execution_count": 20,
      "outputs": [
        {
          "output_type": "stream",
          "name": "stdout",
          "text": [
            "['Bream' 'Smelt' 'Bream' 'Bream' 'Bream']\n"
          ]
        }
      ]
    },
    {
      "cell_type": "code",
      "source": [
        "print(lr.predict_proba(train_bream_smelt[:5]))  # 확률 확인(predict_proba)"
      ],
      "metadata": {
        "colab": {
          "base_uri": "https://localhost:8080/"
        },
        "id": "W12KB3ilN80E",
        "outputId": "51061d69-6b71-472a-f2b8-98b998b1a3d6"
      },
      "execution_count": 21,
      "outputs": [
        {
          "output_type": "stream",
          "name": "stdout",
          "text": [
            "[[0.99760007 0.00239993]\n",
            " [0.02737325 0.97262675]\n",
            " [0.99486386 0.00513614]\n",
            " [0.98585047 0.01414953]\n",
            " [0.99767419 0.00232581]]\n"
          ]
        }
      ]
    },
    {
      "cell_type": "code",
      "source": [
        "# 샘플 마다 2개의 확률이 출력이된다. (시그모이드 함수)\n",
        "# 첫번째 열이 0(음성)에 대한 확률, 두번째 열이 1(양성)에 대한 확률\n",
        "# 여기서, 중요한 것은 사이킷런의 타깃 값은 알파벳 순으로 정렬하여 사용한다.\n",
        "print(lr.classes_)  # 도미가 양성으로 사용된다.\n",
        "\n",
        "# 두번째 샘플만 양성 클래스인 빙어의 확률이 높다. (나머지는 도미로 예측함)\n",
        "\n",
        "# 만약, 도미(Bream)를 양성 클래스로 사용하고 싶으면 전처리에서 Bream인 타겟값을 1로 만들어야 한다."
      ],
      "metadata": {
        "colab": {
          "base_uri": "https://localhost:8080/"
        },
        "id": "EH2SEbpXOPhh",
        "outputId": "60cb5d55-1404-4349-e778-3c50f8868ba3"
      },
      "execution_count": 22,
      "outputs": [
        {
          "output_type": "stream",
          "name": "stdout",
          "text": [
            "['Bream' 'Smelt']\n"
          ]
        }
      ]
    },
    {
      "cell_type": "code",
      "source": [
        "# 로지스틱 회귀로 학습한 계수(중요도)를 알아보자.\n",
        "print(lr.coef_, lr.intercept_)"
      ],
      "metadata": {
        "colab": {
          "base_uri": "https://localhost:8080/"
        },
        "id": "d7pEdYAyPj9i",
        "outputId": "07020837-3381-4eb7-8d57-3402435ae59f"
      },
      "execution_count": 23,
      "outputs": [
        {
          "output_type": "stream",
          "name": "stdout",
          "text": [
            "[[-0.40451732 -0.57582787 -0.66248158 -1.01329614 -0.73123131]] [-2.16172774]\n"
          ]
        }
      ]
    },
    {
      "cell_type": "code",
      "source": [
        "# [[-0.40451732 -0.57582787 -0.66248158 -1.01329614 -0.73123131]] [-2.16172774] 이거를 선형방정식에 대입해서 결과가 나옴.\n",
        "\n",
        "# z = a * (Weight)  + b * (Length) + c * (Diagonal) + d * (Height) + e * (Width) + f\n",
        "\n",
        "# z = -0.40451732 * (Weight)  +  -0.57582787 * (Length) + -0.66248158 * (Diagonal) + -1.01329614 * (Height) + -0.73123131 * (Width) + -2.16172774 로 가중치가 결정됨\n",
        "\n",
        "decisions = lr.decision_function(train_bream_smelt[:5])\n",
        "# train_bream_smelt의 처음 5개의 z값 출력해보면\n",
        "print(decisions)"
      ],
      "metadata": {
        "colab": {
          "base_uri": "https://localhost:8080/"
        },
        "id": "o3IT8JqAP8CI",
        "outputId": "3b26bad7-16be-467d-fbd4-5da235f21335"
      },
      "execution_count": 24,
      "outputs": [
        {
          "output_type": "stream",
          "name": "stdout",
          "text": [
            "[-6.02991358  3.57043428 -5.26630496 -4.24382314 -6.06135688]\n"
          ]
        }
      ]
    },
    {
      "cell_type": "code",
      "source": [
        "# 이 z값을 시그모이드 함수에 통과 시키면 확률을 얻을 수 있다.\n",
        "# 파이썬의 사이파이(scipy) 라이브러리에도 시그모이드 함수가 있다. -> expit()\n",
        "\n",
        "from scipy.special import expit\n",
        "\n",
        "print(expit(decisions)) # phi = 1 / (1 + np.exp(-z))\n",
        "\n",
        "# 여기까지가 2개의 물고기 분류하는 방법\n",
        "#[ 도미          빙어       도미        도미     도미   ]\n",
        "#[0.00239993 0.97262675 0.00513614 0.01414953 0.00232581]"
      ],
      "metadata": {
        "colab": {
          "base_uri": "https://localhost:8080/"
        },
        "id": "xII31YywRT6E",
        "outputId": "7a8e0e70-83c9-4f9b-db7f-7484c8e4b40c"
      },
      "execution_count": 25,
      "outputs": [
        {
          "output_type": "stream",
          "name": "stdout",
          "text": [
            "[0.00239993 0.97262675 0.00513614 0.01414953 0.00232581]\n"
          ]
        }
      ]
    },
    {
      "cell_type": "code",
      "source": [
        "# 다중분류로 진행 해보기(2진분류는 True가 아니면 모두 False 처리)\n",
        "# 현재 어종이 7개 임으로 로지스틱회귀로 분류를 학습함.\n",
        "\n",
        "# LogisticRegression 클래스는 기본적으로 반복적인 알고리즘을 사용한다.(max_iter=100)\n",
        "# 다만, max_iter=100 으로 지정해버리면 부족하다라는 경고 문구가 나오니 1000으로 향상\n",
        "\n",
        "# LogisticRegression 기본적으로 릿지 회귀와 같은 계수를 제곱을 규제한다. (L2 규제)\n",
        "# 릿지 회귀에서는 Alpha 매개변수로 규제의 양을 조절 하였음. -> alpha가 크면 규제도 커진다.\n",
        "# LogisticRegression 규제를 제어하는 매개변수가 C로 되어 있음 -> C가 작으면 규제가 커진다.(기본:1)\n",
        "# 규제를 완화하기 위해서는 20으로 늘리겠다.\n",
        "\n",
        "lr = LogisticRegression(C=20, max_iter=1000) # max_iter=1000 정확도를 위해서 1000번 반복\n",
        "lr.fit(train_scaled, train_target)\n",
        "\n",
        "print(lr.score(train_scaled, train_target)) # 약 93%\n",
        "print(lr.score(test_scaled, test_target))   # 92.5%\n",
        "# 과소나 과대적합이 아닌듯 함"
      ],
      "metadata": {
        "colab": {
          "base_uri": "https://localhost:8080/"
        },
        "id": "Q6LLB3E5SMZT",
        "outputId": "ec82c881-fb43-4198-b35f-797d797e5b1d"
      },
      "execution_count": 26,
      "outputs": [
        {
          "output_type": "stream",
          "name": "stdout",
          "text": [
            "0.9327731092436975\n",
            "0.925\n"
          ]
        }
      ]
    },
    {
      "cell_type": "code",
      "source": [
        "print(lr.predict(test_scaled[:5]))  # 결과 분석 시 다중 분류로 나온다."
      ],
      "metadata": {
        "colab": {
          "base_uri": "https://localhost:8080/"
        },
        "id": "HUlPaVkiUTnj",
        "outputId": "7dc0d77e-b83b-40ce-b260-0696bba8da70"
      },
      "execution_count": 27,
      "outputs": [
        {
          "output_type": "stream",
          "name": "stdout",
          "text": [
            "['Perch' 'Smelt' 'Pike' 'Roach' 'Perch']\n"
          ]
        }
      ]
    },
    {
      "cell_type": "code",
      "source": [
        "proba = lr.predict_proba(test_scaled[:5])\n",
        "print(np.round(proba, decimals=3))\n",
        "\n",
        "# Bream Parkki Perch Pike   Roach   Smelt Whitefish\n",
        "# [[0.    0.014 0.842 0.    0.135 0.007 0.003]\n",
        "#  [0.    0.003 0.044 0.    0.007 0.946 0.   ]\n",
        "#  [0.    0.    0.034 0.934 0.015 0.016 0.   ]\n",
        "#  [0.011 0.034 0.305 0.006 0.567 0.    0.076]\n",
        "#  [0.    0.    0.904 0.002 0.089 0.002 0.001]]"
      ],
      "metadata": {
        "colab": {
          "base_uri": "https://localhost:8080/"
        },
        "id": "AwvbEHEkUfDM",
        "outputId": "3e0176c7-c563-4f74-ffc8-f6641d3f1429"
      },
      "execution_count": 28,
      "outputs": [
        {
          "output_type": "stream",
          "name": "stdout",
          "text": [
            "[[0.    0.014 0.842 0.    0.135 0.007 0.003]\n",
            " [0.    0.003 0.044 0.    0.007 0.946 0.   ]\n",
            " [0.    0.    0.034 0.934 0.015 0.016 0.   ]\n",
            " [0.011 0.034 0.305 0.006 0.567 0.    0.076]\n",
            " [0.    0.    0.904 0.002 0.089 0.002 0.001]]\n"
          ]
        }
      ]
    },
    {
      "cell_type": "code",
      "source": [
        "print(lr.classes_)      # 알파벳 순으로 정렬된다.\n",
        "# 7개의 클래스가 명확하게 구분이 된다."
      ],
      "metadata": {
        "colab": {
          "base_uri": "https://localhost:8080/"
        },
        "id": "AQr_fHUJVAPV",
        "outputId": "455ea812-fb35-4f88-efe7-d115558035a0"
      },
      "execution_count": 29,
      "outputs": [
        {
          "output_type": "stream",
          "name": "stdout",
          "text": [
            "['Bream' 'Parkki' 'Perch' 'Pike' 'Roach' 'Smelt' 'Whitefish']\n"
          ]
        }
      ]
    },
    {
      "cell_type": "code",
      "source": [
        "# 다중 분류일 때 선형방정식\n",
        "\n",
        "print(lr.coef_.shape, lr.intercept_.shape)\n",
        "# (7, 5) -> 5개의 특성을 사용함, 7행을 가지고 있음\n",
        "# (7,) -> 7개의 행을 가지고 있음 -> 이진 분류에서 봤던 z을 7개를 계산함.\n",
        "# 다중 분류는 클래스마다 z값을 하나씩 계산 한다는 의미\n",
        "# 당연히 가장 높은 z값을 출력하는 클래스가 에측 클래스가 된다."
      ],
      "metadata": {
        "colab": {
          "base_uri": "https://localhost:8080/"
        },
        "id": "gEu1HA8OVooN",
        "outputId": "c0276313-d742-43eb-a1f6-7ca4733c7374"
      },
      "execution_count": 30,
      "outputs": [
        {
          "output_type": "stream",
          "name": "stdout",
          "text": [
            "(7, 5) (7,)\n"
          ]
        }
      ]
    },
    {
      "cell_type": "code",
      "source": [
        "# 그럼 확률은 ?? 이진 분류에서는 시그모이드 함수 사용해서 z를 0과 1사이 값으로 변환 했었다.\n",
        "# 그러나, 다중분류에서는 소프트맥스 함수를 사용하여 7개의 z값을 확률로 변환한다.\n",
        "\n",
        "# 소프트맥스 계산법\n",
        "# e_sum = e^z1 + e^z2 + e^z3 + e^z4 + e^z5 + e^z6 + e^z7\n",
        "# s1 = e^z1 / e_sum .... s7 = e^z7 / e_sum -> s1 ~ s7 까지 모두 더하면 분모가 같아져서 1이 된다."
      ],
      "metadata": {
        "id": "06iRMe4bWWUU"
      },
      "execution_count": null,
      "outputs": []
    },
    {
      "cell_type": "markdown",
      "source": [
        "![image.png](data:image/png;base64,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)"
      ],
      "metadata": {
        "id": "ccWm7SEIXsEV"
      }
    },
    {
      "cell_type": "code",
      "source": [
        "decision = lr.decision_function(test_scaled[:5])\n",
        "print(\"5개 샘플에 대한 z1 ~ z7의 값\\n\")\n",
        "\n",
        "for idx,z in enumerate(decision) :\n",
        "    print(f\"{idx}번째 샘플의 z값\\n{z}\\n\")"
      ],
      "metadata": {
        "colab": {
          "base_uri": "https://localhost:8080/"
        },
        "id": "ENFqeJu6XtMr",
        "outputId": "767e33b9-8077-481d-ff1c-f13cd8143133"
      },
      "execution_count": 33,
      "outputs": [
        {
          "output_type": "stream",
          "name": "stdout",
          "text": [
            "5개 샘플에 대한 z1 ~ z7의 값\n",
            "\n",
            "0번째 샘플의 z값\n",
            "[-6.50722814  1.03902666  5.16819138 -2.75730346  3.33655201  0.34625859\n",
            " -0.62549704]\n",
            "\n",
            "1번째 샘플의 z값\n",
            "[-10.87900747   1.94410609   4.77600607  -2.42306183   2.98748716\n",
            "   7.84171377  -4.24724379]\n",
            "\n",
            "2번째 샘플의 z값\n",
            "[-4.33809959 -6.23690282  3.16746648  6.48091391  2.36412675  2.43431898\n",
            " -3.87182371]\n",
            "\n",
            "3번째 샘플의 z값\n",
            "[-0.69143994  0.44628533  2.64291146 -1.21457286  3.2612452  -5.70143404\n",
            "  1.25700485]\n",
            "\n",
            "4번째 샘플의 z값\n",
            "[-6.40138612 -1.99137623  5.81526372 -0.134644    3.49905134 -0.08753485\n",
            " -0.69937385]\n",
            "\n"
          ]
        }
      ]
    },
    {
      "cell_type": "code",
      "source": [
        "from scipy.special import softmax\n",
        "print(\"소프트맥스 함수로 예측 확률 구하기\\n\")\n",
        "class_ = lr.classes_.tolist() + [\"예측 결과\"]\n",
        "prd = lr.predict(test_scaled[:5]).reshape(5,-1)\n",
        "sm = softmax(decision, axis=1).round(2) * 100\n",
        "con = np.column_stack((sm, prd))\n",
        "print(pd.DataFrame(con, columns=class_))\n"
      ],
      "metadata": {
        "colab": {
          "base_uri": "https://localhost:8080/"
        },
        "id": "kFYMO_lbYS8P",
        "outputId": "4f5854b4-78ac-4713-fe18-22630c20587d"
      },
      "execution_count": 34,
      "outputs": [
        {
          "output_type": "stream",
          "name": "stdout",
          "text": [
            "소프트맥스 함수로 예측 확률 구하기\n",
            "\n",
            "  Bream Parkki Perch  Pike Roach Smelt Whitefish  예측 결과\n",
            "0   0.0    1.0  84.0   0.0  13.0   1.0       0.0  Perch\n",
            "1   0.0    0.0   4.0   0.0   1.0  95.0       0.0  Smelt\n",
            "2   0.0    0.0   3.0  93.0   2.0   2.0       0.0   Pike\n",
            "3   1.0    3.0  31.0   1.0  57.0   0.0       8.0  Roach\n",
            "4   0.0    0.0  90.0   0.0   9.0   0.0       0.0  Perch\n"
          ]
        }
      ]
    }
  ]
}