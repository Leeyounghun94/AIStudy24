{
  "nbformat": 4,
  "nbformat_minor": 0,
  "metadata": {
    "colab": {
      "provenance": [],
      "authorship_tag": "ABX9TyPItY9NMl9tWSw7zrhq/n2A",
      "include_colab_link": true
    },
    "kernelspec": {
      "name": "python3",
      "display_name": "Python 3"
    },
    "language_info": {
      "name": "python"
    }
  },
  "cells": [
    {
      "cell_type": "markdown",
      "metadata": {
        "id": "view-in-github",
        "colab_type": "text"
      },
      "source": [
        "<a href=\"https://colab.research.google.com/github/Leeyounghun94/AIStudy24/blob/master/%ED%99%95%EB%A5%A0%EC%A0%81_%EA%B2%BD%EC%82%AC%ED%95%98%EA%B0%95%EB%B2%95.ipynb\" target=\"_parent\"><img src=\"https://colab.research.google.com/assets/colab-badge.svg\" alt=\"Open In Colab\"/></a>"
      ]
    },
    {
      "cell_type": "markdown",
      "source": [
        "\n",
        "\n",
        "> MBC 마켓의 럭키백 성공으로 인해서 각각의 지역에서 수산물을 제공하기로 하였다.\n",
        "영업팀은 매주 7개의 생선 중에서 일부를 무작위로 골라 머신머닝 모델을 학습할 수 있게 훈련 데이터를 제공하고 있다.\n",
        "\n",
        "> 하지만, 수산물을 제공한다는 곳이 너무 많아서 샘플을 골라내는 일이 너무 힘든 상황이 되어버렸다. 추가되는 수산물의 샘플도 없다.\n",
        "\n",
        "> 영업팀은 새로운 생선이 도착하는대로 가능한 즉시 훈련 데이터를 제공해야 한다."
      ],
      "metadata": {
        "id": "yO2J9OSbHSsy"
      }
    },
    {
      "cell_type": "markdown",
      "source": [
        "# **점진적 학습**\n",
        "\n",
        "당면한 문제 : 훈련 데이터가 한번에 준비되는 것이 아닌, 조금씩 전달됨.\n",
        "\n",
        "* 해결법 1 : 기존의 훈련 데이터에 새로운 데이터를 추가하여 모델을 매일매일 다시 훈련\n",
        "> 단점 : 시간이 지날수록 데이터가 늘어나고 인력 추가, 서버 증설, 시간적 여유가 줄어듦. 지속 가능할지 의문...\n",
        "\n",
        "* 해결법 2 : 새로운 데이터를 추가할 때마다 이전 데이터를 버림, 훈련 데이터 크기를 일정하게 유지하는 방법\n",
        "> 단점 : 데이터를 버릴 때 다른 데이터에 없는 중요한 생선 데이터가 포함될 수 있다.\n",
        "\n",
        "* 해결법 3 : 점진적 학습 방법 (온라인 학습, 훈련한 모델을 버리지 않고 **조금씩 새로운 데이터를 학습**) -> 확률적 경사 하강법\n",
        "\n"
      ],
      "metadata": {
        "id": "ihrk8SobIiAi"
      }
    },
    {
      "cell_type": "code",
      "execution_count": null,
      "metadata": {
        "id": "VHQFCGUTHMsY"
      },
      "outputs": [],
      "source": [
        "# 확률적 경사 하강법 (실제 산에서 내려오는 것처럼 가파른 길을 찾아 조금씩 내려온다)\n",
        "# 확률적 : 무작위, 랜덤 (훈련 세트에서 랜덤하게 하나의 샘플을 고른다.)\n",
        "# 경사 : 기울기\n",
        "# 하강 : 내려간다.\n",
        "# 확률적 경사 하강법은 훈련세트에서 랜덤하게 하나의 샘플을 선택해서 가파른 경사를 조금씩 내려간다.\n",
        "# 위 방법을 반복 수행\n",
        "# 만약, 모든 샘플을 다 사용해도 다 내려오지 못할 경우 처음부터 다시 시작한다.\n",
        "# 훈련 세트에 모든 샘플을 다시 채워 넣고 다시 랜덤하게 하나의 샘플을 선택하여 이어서 경사를 내려간다.\n",
        "# 만족할만한 위치에 도달할 때까지 계속 내려간다.\n",
        "# 훈련 세트를 한번 모두 사용하는 과정을 에포크(Epoch)라고 한다.\n",
        "    # 일반 적인 경사 하강법은 수십, 수백번 이상 에포크를 수행한다.\n",
        "# 만약, 실제로 등산이라고 가정하고 산에서 내려온다고 생각할 때 집으로 돌아가려면 등산로의 입구까지 내려가야 한다.\n",
        "# 또 만약, 어떤 산길도 척척 내려갈 수 있는 초능력이 있다면 가장 빠른 길을 선택하는 것이 최선.\n",
        "# 가장 빠른길은 경사가 가파른 길!"
      ]
    },
    {
      "cell_type": "code",
      "source": [
        "# 실제로 산에서 내려올 때는 천천히 조금씩 내려와야 한다. -> 경사 하강법\n",
        "# 가장 가파른 길을 찾아 내려오지만, 조금씩 내려오는 것이 중요하다. -> 훈련법\n",
        "# 훈련 세트를 사용해서 모델을 훈련하기 때문에 경사 하강법도 당연히 가장 가파른 길을 찾을 것!\n",
        "# 그런데, 전체 샘플을 사용하지 않고 딱 하나의 샘플을 훈련 세트에서 랜덤하게 골라 가장 가파른 길을 찾는다. -> 확률적\n",
        "\n",
        "# 결론 : 훈련세트에서 랜덤하게 하나의 샘플을 선택해서 가파른 경사를 조금씩 내려간 다음 훈련세트에서 랜덤하게 또 다른 샘플을 하나 선택하여 경사를 조금 내려 간다. -> 전체 샘플을 모두 사용할 때까지 진행한다."
      ],
      "metadata": {
        "id": "Q0j45HJvRDZT"
      },
      "execution_count": null,
      "outputs": []
    },
    {
      "cell_type": "code",
      "source": [
        "# 위 방법대로 샘플 한 개를 이용하면 너무 무책임하게 내려갈 수 있다.\n",
        "# 잘못된 훈련으로 결과가 나오면 돌아갈 수 없다.\n",
        "# 이러한 문제점을 해소하려고 무작위로 몇 개의 샘플을 선택해서 경사를 내려간다면 미니 배치 경사하강법\n",
        "    # 미니 배치 경사하강법 : 여러 개의 샘플을 사용해서 경사 하강 진행\n",
        "    # 배치 경사하강법 : 극단적으로 한번 경사로를 따라 이동한다(전체 샘플 사용) 단점 : 컴퓨터 자원을 너무 많이 사용, 한번에 전체 데이터를 모두 읽을 수 없다.\n",
        "\n",
        "# 확률적 경사 하강법은 훈련 세트를 사용하여 산 아래에 있는 최적의 장소로 조금씩 이동하는 알고리즘.\n",
        "# 이때문에 훈련 데이터가 모두 준비되어 있지 않고 매일매일 업데이트 되어도 학습을 이어나갈 수 있다. 즉, 다시 산 꼭대기 부터 시작할 필요가 없다. -> 신경망 알고리즘 사용."
      ],
      "metadata": {
        "id": "Ecll8mX5TQJc"
      },
      "execution_count": null,
      "outputs": []
    },
    {
      "cell_type": "code",
      "source": [
        "# 손실 함수(Loss Function) : 머신러닝이 알고리즘이 얼마나 엉터인지 측정하는 기준(작을 수록 좋음)\n",
        "    # 이 값을 찾아서 조금씩 이동한다.\n",
        "# 비용 함수(Cost Fuction) : 훈련 세트에 있는 모든 샘플에 대한 손실 함수의 합\n",
        "# 에포크(Epoch : 시대) : 훈련 세트를 한번 모두 사용하는 과정"
      ],
      "metadata": {
        "id": "ZmUR0DcOUvdi"
      },
      "execution_count": null,
      "outputs": []
    },
    {
      "cell_type": "code",
      "source": [
        "import pandas as pd\n",
        "\n",
        "fish = pd.read_csv('https://bit.ly/fish_csv_data')\n",
        "fish.head()     # fish에 있는 리스트 위에 5개 출력"
      ],
      "metadata": {
        "colab": {
          "base_uri": "https://localhost:8080/",
          "height": 206
        },
        "id": "XfVpd79CXbNZ",
        "outputId": "2eba61fb-f88d-479c-8fea-4f1406a6f4ae"
      },
      "execution_count": 1,
      "outputs": [
        {
          "output_type": "execute_result",
          "data": {
            "text/plain": [
              "  Species  Weight  Length  Diagonal   Height   Width\n",
              "0   Bream   242.0    25.4      30.0  11.5200  4.0200\n",
              "1   Bream   290.0    26.3      31.2  12.4800  4.3056\n",
              "2   Bream   340.0    26.5      31.1  12.3778  4.6961\n",
              "3   Bream   363.0    29.0      33.5  12.7300  4.4555\n",
              "4   Bream   430.0    29.0      34.0  12.4440  5.1340"
            ],
            "text/html": [
              "\n",
              "  <div id=\"df-2837f471-85c5-46e7-9f02-05475669be38\" class=\"colab-df-container\">\n",
              "    <div>\n",
              "<style scoped>\n",
              "    .dataframe tbody tr th:only-of-type {\n",
              "        vertical-align: middle;\n",
              "    }\n",
              "\n",
              "    .dataframe tbody tr th {\n",
              "        vertical-align: top;\n",
              "    }\n",
              "\n",
              "    .dataframe thead th {\n",
              "        text-align: right;\n",
              "    }\n",
              "</style>\n",
              "<table border=\"1\" class=\"dataframe\">\n",
              "  <thead>\n",
              "    <tr style=\"text-align: right;\">\n",
              "      <th></th>\n",
              "      <th>Species</th>\n",
              "      <th>Weight</th>\n",
              "      <th>Length</th>\n",
              "      <th>Diagonal</th>\n",
              "      <th>Height</th>\n",
              "      <th>Width</th>\n",
              "    </tr>\n",
              "  </thead>\n",
              "  <tbody>\n",
              "    <tr>\n",
              "      <th>0</th>\n",
              "      <td>Bream</td>\n",
              "      <td>242.0</td>\n",
              "      <td>25.4</td>\n",
              "      <td>30.0</td>\n",
              "      <td>11.5200</td>\n",
              "      <td>4.0200</td>\n",
              "    </tr>\n",
              "    <tr>\n",
              "      <th>1</th>\n",
              "      <td>Bream</td>\n",
              "      <td>290.0</td>\n",
              "      <td>26.3</td>\n",
              "      <td>31.2</td>\n",
              "      <td>12.4800</td>\n",
              "      <td>4.3056</td>\n",
              "    </tr>\n",
              "    <tr>\n",
              "      <th>2</th>\n",
              "      <td>Bream</td>\n",
              "      <td>340.0</td>\n",
              "      <td>26.5</td>\n",
              "      <td>31.1</td>\n",
              "      <td>12.3778</td>\n",
              "      <td>4.6961</td>\n",
              "    </tr>\n",
              "    <tr>\n",
              "      <th>3</th>\n",
              "      <td>Bream</td>\n",
              "      <td>363.0</td>\n",
              "      <td>29.0</td>\n",
              "      <td>33.5</td>\n",
              "      <td>12.7300</td>\n",
              "      <td>4.4555</td>\n",
              "    </tr>\n",
              "    <tr>\n",
              "      <th>4</th>\n",
              "      <td>Bream</td>\n",
              "      <td>430.0</td>\n",
              "      <td>29.0</td>\n",
              "      <td>34.0</td>\n",
              "      <td>12.4440</td>\n",
              "      <td>5.1340</td>\n",
              "    </tr>\n",
              "  </tbody>\n",
              "</table>\n",
              "</div>\n",
              "    <div class=\"colab-df-buttons\">\n",
              "\n",
              "  <div class=\"colab-df-container\">\n",
              "    <button class=\"colab-df-convert\" onclick=\"convertToInteractive('df-2837f471-85c5-46e7-9f02-05475669be38')\"\n",
              "            title=\"Convert this dataframe to an interactive table.\"\n",
              "            style=\"display:none;\">\n",
              "\n",
              "  <svg xmlns=\"http://www.w3.org/2000/svg\" height=\"24px\" viewBox=\"0 -960 960 960\">\n",
              "    <path d=\"M120-120v-720h720v720H120Zm60-500h600v-160H180v160Zm220 220h160v-160H400v160Zm0 220h160v-160H400v160ZM180-400h160v-160H180v160Zm440 0h160v-160H620v160ZM180-180h160v-160H180v160Zm440 0h160v-160H620v160Z\"/>\n",
              "  </svg>\n",
              "    </button>\n",
              "\n",
              "  <style>\n",
              "    .colab-df-container {\n",
              "      display:flex;\n",
              "      gap: 12px;\n",
              "    }\n",
              "\n",
              "    .colab-df-convert {\n",
              "      background-color: #E8F0FE;\n",
              "      border: none;\n",
              "      border-radius: 50%;\n",
              "      cursor: pointer;\n",
              "      display: none;\n",
              "      fill: #1967D2;\n",
              "      height: 32px;\n",
              "      padding: 0 0 0 0;\n",
              "      width: 32px;\n",
              "    }\n",
              "\n",
              "    .colab-df-convert:hover {\n",
              "      background-color: #E2EBFA;\n",
              "      box-shadow: 0px 1px 2px rgba(60, 64, 67, 0.3), 0px 1px 3px 1px rgba(60, 64, 67, 0.15);\n",
              "      fill: #174EA6;\n",
              "    }\n",
              "\n",
              "    .colab-df-buttons div {\n",
              "      margin-bottom: 4px;\n",
              "    }\n",
              "\n",
              "    [theme=dark] .colab-df-convert {\n",
              "      background-color: #3B4455;\n",
              "      fill: #D2E3FC;\n",
              "    }\n",
              "\n",
              "    [theme=dark] .colab-df-convert:hover {\n",
              "      background-color: #434B5C;\n",
              "      box-shadow: 0px 1px 3px 1px rgba(0, 0, 0, 0.15);\n",
              "      filter: drop-shadow(0px 1px 2px rgba(0, 0, 0, 0.3));\n",
              "      fill: #FFFFFF;\n",
              "    }\n",
              "  </style>\n",
              "\n",
              "    <script>\n",
              "      const buttonEl =\n",
              "        document.querySelector('#df-2837f471-85c5-46e7-9f02-05475669be38 button.colab-df-convert');\n",
              "      buttonEl.style.display =\n",
              "        google.colab.kernel.accessAllowed ? 'block' : 'none';\n",
              "\n",
              "      async function convertToInteractive(key) {\n",
              "        const element = document.querySelector('#df-2837f471-85c5-46e7-9f02-05475669be38');\n",
              "        const dataTable =\n",
              "          await google.colab.kernel.invokeFunction('convertToInteractive',\n",
              "                                                    [key], {});\n",
              "        if (!dataTable) return;\n",
              "\n",
              "        const docLinkHtml = 'Like what you see? Visit the ' +\n",
              "          '<a target=\"_blank\" href=https://colab.research.google.com/notebooks/data_table.ipynb>data table notebook</a>'\n",
              "          + ' to learn more about interactive tables.';\n",
              "        element.innerHTML = '';\n",
              "        dataTable['output_type'] = 'display_data';\n",
              "        await google.colab.output.renderOutput(dataTable, element);\n",
              "        const docLink = document.createElement('div');\n",
              "        docLink.innerHTML = docLinkHtml;\n",
              "        element.appendChild(docLink);\n",
              "      }\n",
              "    </script>\n",
              "  </div>\n",
              "\n",
              "\n",
              "<div id=\"df-19dee80a-1a5a-4b52-8978-480aca43ebe7\">\n",
              "  <button class=\"colab-df-quickchart\" onclick=\"quickchart('df-19dee80a-1a5a-4b52-8978-480aca43ebe7')\"\n",
              "            title=\"Suggest charts\"\n",
              "            style=\"display:none;\">\n",
              "\n",
              "<svg xmlns=\"http://www.w3.org/2000/svg\" height=\"24px\"viewBox=\"0 0 24 24\"\n",
              "     width=\"24px\">\n",
              "    <g>\n",
              "        <path d=\"M19 3H5c-1.1 0-2 .9-2 2v14c0 1.1.9 2 2 2h14c1.1 0 2-.9 2-2V5c0-1.1-.9-2-2-2zM9 17H7v-7h2v7zm4 0h-2V7h2v10zm4 0h-2v-4h2v4z\"/>\n",
              "    </g>\n",
              "</svg>\n",
              "  </button>\n",
              "\n",
              "<style>\n",
              "  .colab-df-quickchart {\n",
              "      --bg-color: #E8F0FE;\n",
              "      --fill-color: #1967D2;\n",
              "      --hover-bg-color: #E2EBFA;\n",
              "      --hover-fill-color: #174EA6;\n",
              "      --disabled-fill-color: #AAA;\n",
              "      --disabled-bg-color: #DDD;\n",
              "  }\n",
              "\n",
              "  [theme=dark] .colab-df-quickchart {\n",
              "      --bg-color: #3B4455;\n",
              "      --fill-color: #D2E3FC;\n",
              "      --hover-bg-color: #434B5C;\n",
              "      --hover-fill-color: #FFFFFF;\n",
              "      --disabled-bg-color: #3B4455;\n",
              "      --disabled-fill-color: #666;\n",
              "  }\n",
              "\n",
              "  .colab-df-quickchart {\n",
              "    background-color: var(--bg-color);\n",
              "    border: none;\n",
              "    border-radius: 50%;\n",
              "    cursor: pointer;\n",
              "    display: none;\n",
              "    fill: var(--fill-color);\n",
              "    height: 32px;\n",
              "    padding: 0;\n",
              "    width: 32px;\n",
              "  }\n",
              "\n",
              "  .colab-df-quickchart:hover {\n",
              "    background-color: var(--hover-bg-color);\n",
              "    box-shadow: 0 1px 2px rgba(60, 64, 67, 0.3), 0 1px 3px 1px rgba(60, 64, 67, 0.15);\n",
              "    fill: var(--button-hover-fill-color);\n",
              "  }\n",
              "\n",
              "  .colab-df-quickchart-complete:disabled,\n",
              "  .colab-df-quickchart-complete:disabled:hover {\n",
              "    background-color: var(--disabled-bg-color);\n",
              "    fill: var(--disabled-fill-color);\n",
              "    box-shadow: none;\n",
              "  }\n",
              "\n",
              "  .colab-df-spinner {\n",
              "    border: 2px solid var(--fill-color);\n",
              "    border-color: transparent;\n",
              "    border-bottom-color: var(--fill-color);\n",
              "    animation:\n",
              "      spin 1s steps(1) infinite;\n",
              "  }\n",
              "\n",
              "  @keyframes spin {\n",
              "    0% {\n",
              "      border-color: transparent;\n",
              "      border-bottom-color: var(--fill-color);\n",
              "      border-left-color: var(--fill-color);\n",
              "    }\n",
              "    20% {\n",
              "      border-color: transparent;\n",
              "      border-left-color: var(--fill-color);\n",
              "      border-top-color: var(--fill-color);\n",
              "    }\n",
              "    30% {\n",
              "      border-color: transparent;\n",
              "      border-left-color: var(--fill-color);\n",
              "      border-top-color: var(--fill-color);\n",
              "      border-right-color: var(--fill-color);\n",
              "    }\n",
              "    40% {\n",
              "      border-color: transparent;\n",
              "      border-right-color: var(--fill-color);\n",
              "      border-top-color: var(--fill-color);\n",
              "    }\n",
              "    60% {\n",
              "      border-color: transparent;\n",
              "      border-right-color: var(--fill-color);\n",
              "    }\n",
              "    80% {\n",
              "      border-color: transparent;\n",
              "      border-right-color: var(--fill-color);\n",
              "      border-bottom-color: var(--fill-color);\n",
              "    }\n",
              "    90% {\n",
              "      border-color: transparent;\n",
              "      border-bottom-color: var(--fill-color);\n",
              "    }\n",
              "  }\n",
              "</style>\n",
              "\n",
              "  <script>\n",
              "    async function quickchart(key) {\n",
              "      const quickchartButtonEl =\n",
              "        document.querySelector('#' + key + ' button');\n",
              "      quickchartButtonEl.disabled = true;  // To prevent multiple clicks.\n",
              "      quickchartButtonEl.classList.add('colab-df-spinner');\n",
              "      try {\n",
              "        const charts = await google.colab.kernel.invokeFunction(\n",
              "            'suggestCharts', [key], {});\n",
              "      } catch (error) {\n",
              "        console.error('Error during call to suggestCharts:', error);\n",
              "      }\n",
              "      quickchartButtonEl.classList.remove('colab-df-spinner');\n",
              "      quickchartButtonEl.classList.add('colab-df-quickchart-complete');\n",
              "    }\n",
              "    (() => {\n",
              "      let quickchartButtonEl =\n",
              "        document.querySelector('#df-19dee80a-1a5a-4b52-8978-480aca43ebe7 button');\n",
              "      quickchartButtonEl.style.display =\n",
              "        google.colab.kernel.accessAllowed ? 'block' : 'none';\n",
              "    })();\n",
              "  </script>\n",
              "</div>\n",
              "\n",
              "    </div>\n",
              "  </div>\n"
            ],
            "application/vnd.google.colaboratory.intrinsic+json": {
              "type": "dataframe",
              "variable_name": "fish",
              "summary": "{\n  \"name\": \"fish\",\n  \"rows\": 159,\n  \"fields\": [\n    {\n      \"column\": \"Species\",\n      \"properties\": {\n        \"dtype\": \"category\",\n        \"num_unique_values\": 7,\n        \"samples\": [\n          \"Bream\",\n          \"Roach\",\n          \"Pike\"\n        ],\n        \"semantic_type\": \"\",\n        \"description\": \"\"\n      }\n    },\n    {\n      \"column\": \"Weight\",\n      \"properties\": {\n        \"dtype\": \"number\",\n        \"std\": 357.9783165508931,\n        \"min\": 0.0,\n        \"max\": 1650.0,\n        \"num_unique_values\": 101,\n        \"samples\": [\n          770.0,\n          51.5,\n          197.0\n        ],\n        \"semantic_type\": \"\",\n        \"description\": \"\"\n      }\n    },\n    {\n      \"column\": \"Length\",\n      \"properties\": {\n        \"dtype\": \"number\",\n        \"std\": 10.716328098884247,\n        \"min\": 8.4,\n        \"max\": 63.4,\n        \"num_unique_values\": 93,\n        \"samples\": [\n          14.7,\n          18.8,\n          19.6\n        ],\n        \"semantic_type\": \"\",\n        \"description\": \"\"\n      }\n    },\n    {\n      \"column\": \"Diagonal\",\n      \"properties\": {\n        \"dtype\": \"number\",\n        \"std\": 11.610245832690964,\n        \"min\": 8.8,\n        \"max\": 68.0,\n        \"num_unique_values\": 124,\n        \"samples\": [\n          39.2,\n          27.2,\n          23.1\n        ],\n        \"semantic_type\": \"\",\n        \"description\": \"\"\n      }\n    },\n    {\n      \"column\": \"Height\",\n      \"properties\": {\n        \"dtype\": \"number\",\n        \"std\": 4.286207619968867,\n        \"min\": 1.7284,\n        \"max\": 18.957,\n        \"num_unique_values\": 154,\n        \"samples\": [\n          15.438,\n          7.293,\n          2.8728\n        ],\n        \"semantic_type\": \"\",\n        \"description\": \"\"\n      }\n    },\n    {\n      \"column\": \"Width\",\n      \"properties\": {\n        \"dtype\": \"number\",\n        \"std\": 1.6858038699921671,\n        \"min\": 1.0476,\n        \"max\": 8.142,\n        \"num_unique_values\": 152,\n        \"samples\": [\n          3.1571,\n          1.3936,\n          3.6835\n        ],\n        \"semantic_type\": \"\",\n        \"description\": \"\"\n      }\n    }\n  ]\n}"
            }
          },
          "metadata": {},
          "execution_count": 1
        }
      ]
    },
    {
      "cell_type": "code",
      "source": [
        "fish_input = fish[['Weight','Length','Diagonal','Height','Width']].to_numpy()\n",
        "#   Species(어종)을 제외한 나머지 필드를 fish_input 변수에 리스트 넣는다\n",
        "fish_target = fish['Species'].to_numpy()    # Species(어종) 정답 파일로 생성\n",
        "print(fish_target)"
      ],
      "metadata": {
        "colab": {
          "base_uri": "https://localhost:8080/"
        },
        "id": "kuhTuwCWZFX5",
        "outputId": "21685755-79df-480e-d824-b6a015f080c5"
      },
      "execution_count": 2,
      "outputs": [
        {
          "output_type": "stream",
          "name": "stdout",
          "text": [
            "['Bream' 'Bream' 'Bream' 'Bream' 'Bream' 'Bream' 'Bream' 'Bream' 'Bream'\n",
            " 'Bream' 'Bream' 'Bream' 'Bream' 'Bream' 'Bream' 'Bream' 'Bream' 'Bream'\n",
            " 'Bream' 'Bream' 'Bream' 'Bream' 'Bream' 'Bream' 'Bream' 'Bream' 'Bream'\n",
            " 'Bream' 'Bream' 'Bream' 'Bream' 'Bream' 'Bream' 'Bream' 'Bream' 'Roach'\n",
            " 'Roach' 'Roach' 'Roach' 'Roach' 'Roach' 'Roach' 'Roach' 'Roach' 'Roach'\n",
            " 'Roach' 'Roach' 'Roach' 'Roach' 'Roach' 'Roach' 'Roach' 'Roach' 'Roach'\n",
            " 'Roach' 'Whitefish' 'Whitefish' 'Whitefish' 'Whitefish' 'Whitefish'\n",
            " 'Whitefish' 'Parkki' 'Parkki' 'Parkki' 'Parkki' 'Parkki' 'Parkki'\n",
            " 'Parkki' 'Parkki' 'Parkki' 'Parkki' 'Parkki' 'Perch' 'Perch' 'Perch'\n",
            " 'Perch' 'Perch' 'Perch' 'Perch' 'Perch' 'Perch' 'Perch' 'Perch' 'Perch'\n",
            " 'Perch' 'Perch' 'Perch' 'Perch' 'Perch' 'Perch' 'Perch' 'Perch' 'Perch'\n",
            " 'Perch' 'Perch' 'Perch' 'Perch' 'Perch' 'Perch' 'Perch' 'Perch' 'Perch'\n",
            " 'Perch' 'Perch' 'Perch' 'Perch' 'Perch' 'Perch' 'Perch' 'Perch' 'Perch'\n",
            " 'Perch' 'Perch' 'Perch' 'Perch' 'Perch' 'Perch' 'Perch' 'Perch' 'Perch'\n",
            " 'Perch' 'Perch' 'Perch' 'Perch' 'Perch' 'Perch' 'Perch' 'Perch' 'Pike'\n",
            " 'Pike' 'Pike' 'Pike' 'Pike' 'Pike' 'Pike' 'Pike' 'Pike' 'Pike' 'Pike'\n",
            " 'Pike' 'Pike' 'Pike' 'Pike' 'Pike' 'Pike' 'Smelt' 'Smelt' 'Smelt' 'Smelt'\n",
            " 'Smelt' 'Smelt' 'Smelt' 'Smelt' 'Smelt' 'Smelt' 'Smelt' 'Smelt' 'Smelt'\n",
            " 'Smelt']\n"
          ]
        }
      ]
    },
    {
      "cell_type": "code",
      "source": [
        "from sklearn.model_selection import train_test_split\n",
        "import numpy as np\n",
        "np.set_printoptions(precision=6, suppress=True) # 지수를 정수로 변환하기\n",
        "\n",
        "# 사이킷런을 이용해서 훈련자료와 테스트자료를 나눈다.\n",
        "train_input, test_input, train_target, test_target = train_test_split(\n",
        "    fish_input, fish_target, random_state=42)\n",
        "print('train_input')\n",
        "print(train_input)"
      ],
      "metadata": {
        "colab": {
          "base_uri": "https://localhost:8080/"
        },
        "id": "7rSCwGMkZ1H6",
        "outputId": "b57536d3-1709-40e7-ed58-3f69fbf52e8d"
      },
      "execution_count": 4,
      "outputs": [
        {
          "output_type": "stream",
          "name": "stdout",
          "text": [
            "train_input\n",
            "[[ 720.       35.       40.6      16.3618    6.09  ]\n",
            " [ 500.       45.       48.        6.96      4.896 ]\n",
            " [   7.5      10.5      11.6       1.972     1.16  ]\n",
            " [ 110.       22.       23.5       5.5225    3.995 ]\n",
            " [ 140.       20.7      23.2       8.5376    3.2944]\n",
            " [  69.       18.2      20.3       5.2983    2.8217]\n",
            " [ 110.       21.       22.5       5.6925    3.555 ]\n",
            " [ 620.       34.5      39.7      15.5227    5.2801]\n",
            " [ 130.       21.3      22.8       6.384     3.534 ]\n",
            " [  85.       20.       21.        5.082     2.772 ]\n",
            " [ 685.       36.5      39.       10.881     6.864 ]\n",
            " [ 500.       31.       36.2      14.3714    4.8146]\n",
            " [ 514.       32.8      34.       10.03      6.018 ]\n",
            " [ 200.       23.       25.8      10.3458    3.6636]\n",
            " [1000.       44.       46.6      12.4888    7.5958]\n",
            " [ 714.       36.       41.5      16.517     5.8515]\n",
            " [   8.7      11.3      12.6       1.9782    1.2852]\n",
            " [1000.       43.       45.2      11.9328    7.2772]\n",
            " [ 110.       20.8      23.1       6.1677    3.3957]\n",
            " [ 430.       29.       34.       12.444     5.134 ]\n",
            " [ 456.       42.5      45.5       7.28      4.3225]\n",
            " [ 925.       39.5      45.3      18.7542    6.7497]\n",
            " [ 950.       51.7      55.1       8.9262    6.1712]\n",
            " [ 250.       27.5      28.9       7.2828    4.5662]\n",
            " [ 170.       20.7      23.2       9.396     3.4104]\n",
            " [ 475.       31.       36.2      14.2628    5.1042]\n",
            " [ 145.       22.7      24.2       5.9532    3.63  ]\n",
            " [ 300.       37.3      39.8       6.2884    4.0198]\n",
            " [ 242.       25.4      30.       11.52      4.02  ]\n",
            " [ 650.       39.       41.4      11.1366    6.003 ]\n",
            " [ 120.       19.       21.3       8.3922    2.9181]\n",
            " [ 145.       22.       24.3       6.6339    3.5478]\n",
            " [ 125.       21.       22.5       5.6925    3.6675]\n",
            " [ 850.       36.       41.6      16.8896    6.1984]\n",
            " [   0.       20.5      22.8       6.4752    3.3516]\n",
            " [ 840.       35.       37.3      11.4884    7.7957]\n",
            " [ 725.       35.       40.9      16.36      6.0532]\n",
            " [ 680.       35.       40.6      15.4686    6.1306]\n",
            " [ 690.       37.       39.3      10.5717    6.3666]\n",
            " [  80.       19.       20.2       5.6358    3.0502]\n",
            " [ 120.       20.       22.2       6.216     3.5742]\n",
            " [1600.       60.       64.        9.6       6.144 ]\n",
            " [ 265.       27.5      28.9       7.0516    4.335 ]\n",
            " [  12.2      12.2      13.4       2.0904    1.3936]\n",
            " [ 345.       38.5      41.        6.396     3.977 ]\n",
            " [ 160.       22.5      25.        6.4       3.8   ]\n",
            " [ 850.       40.       42.3      11.9286    7.1064]\n",
            " [  55.       14.7      16.5       6.8475    2.3265]\n",
            " [  32.       13.7      14.7       3.528     1.9992]\n",
            " [ 975.       41.       45.9      18.6354    6.7473]\n",
            " [ 320.       30.       31.6       7.6156    4.7716]\n",
            " [   9.7      11.       12.        2.196     1.38  ]\n",
            " [1100.       42.       44.6      12.8002    6.8684]\n",
            " [  60.       15.5      17.4       6.5772    2.3142]\n",
            " [  19.7      14.3      15.2       2.8728    2.0672]\n",
            " [ 145.       24.       25.5       6.375     3.825 ]\n",
            " [ 197.       25.6      27.        6.561     4.239 ]\n",
            " [ 272.       27.       30.6       8.568     4.7736]\n",
            " [ 450.       29.7      34.7      13.6024    4.9274]\n",
            " [ 700.       37.       39.4      10.835     6.2646]\n",
            " [ 820.       40.       42.5      11.135     6.63  ]\n",
            " [ 161.       23.4      26.7       6.9153    3.6312]\n",
            " [  40.       14.1      16.2       4.1472    2.268 ]\n",
            " [  85.       19.6      20.8       5.1376    3.0368]\n",
            " [ 100.       18.       19.2       5.2224    3.3216]\n",
            " [ 950.       41.       46.5      17.6235    6.3705]\n",
            " [ 140.       22.5      25.        6.55      3.325 ]\n",
            " [ 390.       30.       35.       12.67      4.69  ]\n",
            " [ 150.       22.       24.7       5.8045    3.7544]\n",
            " [ 273.       25.       28.       11.088     4.144 ]\n",
            " [ 900.       40.       42.5      11.73      7.225 ]\n",
            " [ 556.       34.5      36.5      10.2565    6.3875]\n",
            " [ 130.       22.5      24.        5.856     3.624 ]\n",
            " [ 115.       21.       22.5       5.9175    3.3075]\n",
            " [1550.       60.       64.        9.6       6.144 ]\n",
            " [1650.       63.4      68.       10.812     7.48  ]\n",
            " [ 135.       22.       23.5       5.875     3.525 ]\n",
            " [ 450.       30.       35.1      14.0049    4.8438]\n",
            " [ 700.       36.       38.3      10.6091    6.7408]\n",
            " [ 340.       32.       37.3      13.9129    5.0728]\n",
            " [ 800.       36.4      39.6      11.7612    6.5736]\n",
            " [ 540.       43.       45.8       7.786     5.1296]\n",
            " [ 363.       29.       33.5      12.73      4.4555]\n",
            " [ 700.       33.       38.5      14.938     5.1975]\n",
            " [  87.       19.8      22.2       5.6166    3.1746]\n",
            " [   5.9       8.4       8.8       2.112     1.408 ]\n",
            " [ 770.       48.       51.2       7.68      5.376 ]\n",
            " [ 500.       29.7      34.5      14.1795    5.2785]\n",
            " [ 430.       38.       40.5       7.29      4.5765]\n",
            " [  90.       17.7      19.8       7.4052    2.673 ]\n",
            " [ 390.       31.7      35.        9.485     5.355 ]\n",
            " [ 300.       28.7      30.1       7.5852    4.6354]\n",
            " [ 200.       23.5      26.8       7.3968    4.1272]\n",
            " [  12.2      13.       13.8       2.277     1.2558]\n",
            " [ 540.       31.       34.       10.744     6.562 ]\n",
            " [ 169.       24.       27.2       7.5344    3.8352]\n",
            " [ 130.       22.       23.5       6.11      3.525 ]\n",
            " [ 685.       34.       39.2      15.9936    5.3704]\n",
            " [ 306.       28.       30.8       8.778     4.6816]\n",
            " [   9.8      12.       13.2       2.2044    1.1484]\n",
            " [ 300.       34.       37.8       5.7078    4.158 ]\n",
            " [  78.       18.8      21.2       5.5756    2.9044]\n",
            " [   9.8      11.2      12.4       2.0832    1.2772]\n",
            " [ 290.       26.3      31.2      12.48      4.3056]\n",
            " [ 290.       26.       29.2       8.8768    4.4968]\n",
            " [ 300.       35.       38.8       5.9364    4.3844]\n",
            " [ 260.       27.5      28.9       7.1672    4.335 ]\n",
            " [ 180.       25.       26.5       6.4395    3.6835]\n",
            " [ 900.       39.       41.4      11.1366    7.4934]\n",
            " [ 120.       22.       23.5       5.64      3.525 ]\n",
            " [  40.       15.       16.        3.824     2.432 ]\n",
            " [1015.       40.       42.4      12.3808    7.4624]\n",
            " [  19.9      15.       16.2       2.9322    1.8792]\n",
            " [ 575.       34.       39.5      15.1285    5.5695]\n",
            " [ 300.       26.       29.       11.368     4.234 ]\n",
            " [ 250.       28.       29.4       7.8204    4.2042]\n",
            " [ 600.       32.       37.2      14.9544    5.1708]\n",
            " [ 150.       22.5      24.        6.792     3.624 ]\n",
            " [ 300.       27.3      28.7       8.323     5.1373]]\n"
          ]
        }
      ]
    },
    {
      "cell_type": "code",
      "source": [
        "print(train_input.shape)   # 요소 : 119개, 특성 : 5"
      ],
      "metadata": {
        "colab": {
          "base_uri": "https://localhost:8080/"
        },
        "id": "0lW5WAoZdYJn",
        "outputId": "c14e0fcf-0ad1-4a87-9706-ae7a3279b5c5"
      },
      "execution_count": 5,
      "outputs": [
        {
          "output_type": "stream",
          "name": "stdout",
          "text": [
            "(119, 5)\n"
          ]
        }
      ]
    },
    {
      "cell_type": "code",
      "source": [
        "print('test_input')\n",
        "print(test_input)"
      ],
      "metadata": {
        "colab": {
          "base_uri": "https://localhost:8080/"
        },
        "id": "MvFNxwyDdiOQ",
        "outputId": "547ce77d-88cb-47b3-89e1-37155803642b"
      },
      "execution_count": 6,
      "outputs": [
        {
          "output_type": "stream",
          "name": "stdout",
          "text": [
            "test_input\n",
            "[[  78.       18.7      19.4       5.1992    3.1234]\n",
            " [  13.4      12.4      13.5       2.43      1.269 ]\n",
            " [ 200.       32.3      34.8       5.568     3.3756]\n",
            " [ 270.       26.       28.7       8.3804    4.2476]\n",
            " [ 150.       23.       24.5       5.2185    3.626 ]\n",
            " [1000.       37.       42.6      18.957     6.603 ]\n",
            " [   7.       10.6      11.6       1.7284    1.1484]\n",
            " [ 180.       25.2      27.9       7.0866    3.906 ]\n",
            " [ 188.       24.6      26.2       6.7334    4.1658]\n",
            " [1250.       56.       59.7      10.6863    6.9849]\n",
            " [ 650.       33.5      38.7      14.4738    5.7276]\n",
            " [1000.       40.       43.5      12.354     6.525 ]\n",
            " [ 600.       32.       37.2      15.438     5.58  ]\n",
            " [ 150.       20.       22.4       8.8928    3.2928]\n",
            " [ 700.       35.       40.5      16.2405    5.589 ]\n",
            " [ 920.       38.5      44.1      18.0369    6.3063]\n",
            " [1000.       43.5      46.       12.604     8.142 ]\n",
            " [ 218.       26.5      28.        7.168     4.144 ]\n",
            " [ 225.       24.       25.5       7.293     3.723 ]\n",
            " [ 700.       33.       38.3      14.8604    5.2854]\n",
            " [  10.       11.8      13.1       2.2139    1.2838]\n",
            " [ 610.       33.5      38.6      15.633     5.1338]\n",
            " [ 500.       31.5      36.4      13.7592    4.368 ]\n",
            " [ 500.       30.7      36.2      14.2266    4.9594]\n",
            " [ 955.       38.5      44.       18.084     6.292 ]\n",
            " [1100.       43.       45.5      12.5125    7.4165]\n",
            " [ 170.       23.5      25.        6.275     3.725 ]\n",
            " [ 270.       26.5      29.3       8.1454    4.2485]\n",
            " [   6.7       9.8      10.8       1.7388    1.0476]\n",
            " [   9.9      11.8      13.1       2.2139    1.1659]\n",
            " [ 510.       42.5      45.5       6.825     4.459 ]\n",
            " [  70.       17.4      18.5       4.588     2.9415]\n",
            " [  51.5      16.2      17.2       4.5924    2.6316]\n",
            " [ 567.       46.       48.7       7.792     4.87  ]\n",
            " [ 340.       26.5      31.1      12.3778    4.6961]\n",
            " [ 120.       22.       23.5       6.11      3.4075]\n",
            " [ 160.       22.5      25.3       7.0334    3.8203]\n",
            " [ 120.       21.       23.7       6.1146    3.2943]\n",
            " [ 145.       21.5      24.1       9.7364    3.1571]\n",
            " [ 820.       39.       41.3      12.4313    7.3514]]\n"
          ]
        }
      ]
    },
    {
      "cell_type": "code",
      "source": [
        "print(test_input.shape) # 40개, 5 특성"
      ],
      "metadata": {
        "colab": {
          "base_uri": "https://localhost:8080/"
        },
        "id": "eEeOdDtIdnSy",
        "outputId": "3cfec78a-c07c-42b6-89fe-c004fb2eaac3"
      },
      "execution_count": 7,
      "outputs": [
        {
          "output_type": "stream",
          "name": "stdout",
          "text": [
            "(40, 5)\n"
          ]
        }
      ]
    },
    {
      "cell_type": "code",
      "source": [
        "print('train_target : ' + train_target) # 훈련 정답 : 119개"
      ],
      "metadata": {
        "colab": {
          "base_uri": "https://localhost:8080/"
        },
        "id": "VqY3QoKXds9X",
        "outputId": "091dfaa3-962e-475a-b603-1b32f1711ab5"
      },
      "execution_count": 8,
      "outputs": [
        {
          "output_type": "stream",
          "name": "stdout",
          "text": [
            "['train_target : Bream' 'train_target : Pike' 'train_target : Smelt'\n",
            " 'train_target : Perch' 'train_target : Parkki' 'train_target : Roach'\n",
            " 'train_target : Perch' 'train_target : Bream' 'train_target : Perch'\n",
            " 'train_target : Perch' 'train_target : Perch' 'train_target : Bream'\n",
            " 'train_target : Perch' 'train_target : Parkki' 'train_target : Perch'\n",
            " 'train_target : Bream' 'train_target : Smelt' 'train_target : Perch'\n",
            " 'train_target : Roach' 'train_target : Bream' 'train_target : Pike'\n",
            " 'train_target : Bream' 'train_target : Pike' 'train_target : Perch'\n",
            " 'train_target : Parkki' 'train_target : Bream' 'train_target : Perch'\n",
            " 'train_target : Pike' 'train_target : Bream' 'train_target : Perch'\n",
            " 'train_target : Parkki' 'train_target : Roach' 'train_target : Perch'\n",
            " 'train_target : Bream' 'train_target : Roach' 'train_target : Perch'\n",
            " 'train_target : Bream' 'train_target : Bream' 'train_target : Perch'\n",
            " 'train_target : Perch' 'train_target : Roach' 'train_target : Pike'\n",
            " 'train_target : Perch' 'train_target : Smelt' 'train_target : Pike'\n",
            " 'train_target : Roach' 'train_target : Perch' 'train_target : Parkki'\n",
            " 'train_target : Perch' 'train_target : Bream' 'train_target : Perch'\n",
            " 'train_target : Smelt' 'train_target : Perch' 'train_target : Parkki'\n",
            " 'train_target : Smelt' 'train_target : Perch' 'train_target : Perch'\n",
            " 'train_target : Roach' 'train_target : Bream' 'train_target : Perch'\n",
            " 'train_target : Perch' 'train_target : Roach' 'train_target : Roach'\n",
            " 'train_target : Perch' 'train_target : Perch' 'train_target : Bream'\n",
            " 'train_target : Roach' 'train_target : Bream' 'train_target : Roach'\n",
            " 'train_target : Parkki' 'train_target : Perch' 'train_target : Perch'\n",
            " 'train_target : Perch' 'train_target : Perch' 'train_target : Pike'\n",
            " 'train_target : Pike' 'train_target : Perch' 'train_target : Bream'\n",
            " 'train_target : Perch' 'train_target : Bream' 'train_target : Whitefish'\n",
            " 'train_target : Pike' 'train_target : Bream' 'train_target : Bream'\n",
            " 'train_target : Roach' 'train_target : Perch' 'train_target : Pike'\n",
            " 'train_target : Bream' 'train_target : Pike' 'train_target : Parkki'\n",
            " 'train_target : Roach' 'train_target : Perch' 'train_target : Roach'\n",
            " 'train_target : Smelt' 'train_target : Whitefish' 'train_target : Roach'\n",
            " 'train_target : Perch' 'train_target : Bream' 'train_target : Whitefish'\n",
            " 'train_target : Smelt' 'train_target : Pike' 'train_target : Roach'\n",
            " 'train_target : Smelt' 'train_target : Bream' 'train_target : Roach'\n",
            " 'train_target : Pike' 'train_target : Perch' 'train_target : Perch'\n",
            " 'train_target : Perch' 'train_target : Perch' 'train_target : Perch'\n",
            " 'train_target : Perch' 'train_target : Smelt' 'train_target : Bream'\n",
            " 'train_target : Parkki' 'train_target : Perch' 'train_target : Bream'\n",
            " 'train_target : Perch' 'train_target : Perch']\n"
          ]
        }
      ]
    },
    {
      "cell_type": "code",
      "source": [
        "print(test_target)  # 테스트 정답 40개"
      ],
      "metadata": {
        "colab": {
          "base_uri": "https://localhost:8080/"
        },
        "id": "PPtVAvhLd4qx",
        "outputId": "d846ba81-3f46-409f-a834-db6a8cdb88f1"
      },
      "execution_count": 9,
      "outputs": [
        {
          "output_type": "stream",
          "name": "stdout",
          "text": [
            "['Perch' 'Smelt' 'Pike' 'Whitefish' 'Perch' 'Bream' 'Smelt' 'Roach'\n",
            " 'Perch' 'Pike' 'Bream' 'Whitefish' 'Bream' 'Parkki' 'Bream' 'Bream'\n",
            " 'Perch' 'Perch' 'Perch' 'Bream' 'Smelt' 'Bream' 'Bream' 'Bream' 'Bream'\n",
            " 'Perch' 'Perch' 'Whitefish' 'Smelt' 'Smelt' 'Pike' 'Perch' 'Perch' 'Pike'\n",
            " 'Bream' 'Perch' 'Roach' 'Roach' 'Parkki' 'Perch']\n"
          ]
        }
      ]
    },
    {
      "cell_type": "code",
      "source": [
        "from sklearn.preprocessing import StandardScaler\n",
        "# 훈련세트와 테스트 세트의 특성을 표준화 전처리함(표준점수로 처리)\n",
        "\n",
        "ss = StandardScaler()\n",
        "ss.fit(train_input)\n",
        "train_scaled = ss.transform(train_input)\n",
        "test_scaled = ss.transform(test_input)\n",
        "print(train_scaled[:5])"
      ],
      "metadata": {
        "colab": {
          "base_uri": "https://localhost:8080/"
        },
        "id": "uMmbkYZGeKIZ",
        "outputId": "75060ba1-7591-4f94-daf4-57f24dc79c7a"
      },
      "execution_count": 10,
      "outputs": [
        {
          "output_type": "stream",
          "name": "stdout",
          "text": [
            "[[ 0.919658  0.609432  0.810412  1.851949  1.000757]\n",
            " [ 0.300412  1.546534  1.453166 -0.469817  0.272917]\n",
            " [-1.085854 -1.68647  -1.708486 -1.701598 -2.004476]\n",
            " [-0.797341 -0.608802 -0.674869 -0.824806 -0.276315]\n",
            " [-0.712899 -0.730625 -0.700927 -0.08023  -0.703387]]\n"
          ]
        }
      ]
    },
    {
      "cell_type": "code",
      "source": [
        "print(test_scaled[:5])"
      ],
      "metadata": {
        "colab": {
          "base_uri": "https://localhost:8080/"
        },
        "id": "E2lMKv3Deojx",
        "outputId": "c1c9133d-cc61-45d6-d3ca-e798bae460b3"
      },
      "execution_count": 11,
      "outputs": [
        {
          "output_type": "stream",
          "name": "stdout",
          "text": [
            "[[-0.887414 -0.918046 -1.030989 -0.904645 -0.807625]\n",
            " [-1.069247 -1.50842  -1.543455 -1.588496 -1.938032]\n",
            " [-0.544014  0.356414  0.306633 -0.81357  -0.653889]\n",
            " [-0.346981 -0.233961 -0.223205 -0.11905  -0.122335]\n",
            " [-0.684751 -0.515091 -0.588011 -0.899878 -0.50125 ]]\n"
          ]
        }
      ]
    },
    {
      "cell_type": "code",
      "source": [
        "from sklearn.linear_model import SGDClassifier\n",
        "# SGDClassifier : 사이킷런의 확률적 경사 하강법 제공, 2개의 매개변수를 지정함\n",
        "# loss ='log_loss' : 로지스틱 손실 함수 지정\n",
        "# max_iter=10 : 10회 에포크 반복(전체 훈련세트를 10회 반복)\n",
        "sc = SGDClassifier(loss='log_loss', max_iter=10, random_state=42)\n",
        "sc.fit(train_scaled, train_target)  # 학습 시작.\n",
        "\n",
        "print(sc.score(train_scaled, train_target)) # 77.31%\n",
        "print(sc.score(test_scaled, test_target))   # 77.5% -> 반복횟수 부족으로 max_iter를 향상 후 훈련\n",
        "\n",
        "# /usr/local/lib/python3.10/dist-packages/sklearn/linear_model/_stochastic_gradient.py:738: ConvergenceWarning: Maximum number of iteration reached before convergence. Consider increasing max_iter to improve the fit.\n",
        "#   warnings.warn(\n",
        "#       -> max_iter=10, 10번 횟수로 했더니 너무 작은거 같다, 횟수를 올려봐라 라는 뜻인듯.."
      ],
      "metadata": {
        "colab": {
          "base_uri": "https://localhost:8080/"
        },
        "id": "ZFZ5CIVXe8JV",
        "outputId": "e4662759-a790-4356-db62-0388cb970546"
      },
      "execution_count": 12,
      "outputs": [
        {
          "output_type": "stream",
          "name": "stdout",
          "text": [
            "0.773109243697479\n",
            "0.775\n"
          ]
        },
        {
          "output_type": "stream",
          "name": "stderr",
          "text": [
            "/usr/local/lib/python3.10/dist-packages/sklearn/linear_model/_stochastic_gradient.py:738: ConvergenceWarning: Maximum number of iteration reached before convergence. Consider increasing max_iter to improve the fit.\n",
            "  warnings.warn(\n"
          ]
        }
      ]
    },
    {
      "cell_type": "code",
      "source": [
        "# 확률적 경사 하강법은 점진적 학습이 가능하다.\n",
        "# SGDClassifier 객체를 또 만들지 말고 훈련할 모델을 sc로 추가하여 훈련을 추가한다.\n",
        "sc.partial_fit(train_scaled, train_target)\n",
        "\n",
        "print(sc.score(train_scaled, train_target)) # 79.83%\n",
        "print(sc.score(test_scaled, test_target))   # 77.5%     -> 정확도가 향상되고 있음.\n",
        "# 퍼센트가 증가한다 -> 무작정 부분적인 학습을 계속하는것은 의미가 없다. -> 기준점을 제공해야 한다.\n",
        "# 현재는 하산하려다가 정지된 느낌."
      ],
      "metadata": {
        "colab": {
          "base_uri": "https://localhost:8080/"
        },
        "id": "NAK9eXx8gskb",
        "outputId": "84552cec-a2ba-416f-e1ef-0adebe6e59ef"
      },
      "execution_count": 13,
      "outputs": [
        {
          "output_type": "stream",
          "name": "stdout",
          "text": [
            "0.7983193277310925\n",
            "0.775\n"
          ]
        }
      ]
    },
    {
      "cell_type": "code",
      "source": [
        "# 에포크와 과대/과소 적합\n",
        "# 확률적 경사 하강법를 사용한 모델은 에포크 횟수에 따라 과소, 과대 적합이 될 수 있다.\n",
        "# 에포크 횟수가 적으면 훈련 세트를 덜 학습한다. (119개에서 10번만 랜덤 추출하고 정지)\n",
        "# 에포크 횟수가 충분히 많으면 훈련 세트를 완전히 학습할 것이다.(very Good!)"
      ],
      "metadata": {
        "id": "DlJW_BLIiI7j"
      },
      "execution_count": null,
      "outputs": []
    },
    {
      "cell_type": "code",
      "source": [
        "# 바꿔말하면 적은 에포크 횟수 동안에 훈련된 모델은 훈련세트와 테스트 세트에 맞지 않는다(과소 적합)\n",
        "# 반대로 에포크 횟수가 많은 훈련 모델인 경우 너무 잘 맞아 테스트 세트에는 오히려 점수가 나쁨(과대 적합)\n",
        "\n",
        "# 과대적합이 되기 전에 훈련을 멈추는 것을 조기 종료 라고 한다.\n",
        "\n",
        "import numpy as np\n",
        "\n",
        "sc = SGDClassifier(loss='log_loss', random_state=42)\n",
        "\n",
        "train_score = [] # 훈련세트 점수를 누적하는 빈 리스트\n",
        "test_score = [] # 테스트 세트 점수를 누적하는 빈 리스트\n",
        "\n",
        "# train_target에 있는 7개의 생선 목록을 제공함\n",
        "\n",
        "classes = np.unique(train_target)\n",
        "\n",
        "# 파이썬의 _ 변수는 1회용\n",
        "for _ in range(0, 300):\n",
        "    sc.partial_fit(train_scaled, train_target, classes=classes) # 훈련을 부분적으로 추가하는 partial_fit\n",
        "# 반복마다 훈련세트와 테스트 세트의 점수 계산해서 train_score와 test_score 리스트에 추가함.\n",
        "    train_score.append(sc.score(train_scaled, train_target))        # 훈련세트점수를 빈 리스트에 추가\n",
        "    test_score.append(sc.score(test_scaled, test_target))           # 테스트세트점수를 빈 리스트에 추가"
      ],
      "metadata": {
        "id": "pvtgR6yGjT4-"
      },
      "execution_count": 15,
      "outputs": []
    },
    {
      "cell_type": "code",
      "source": [
        "import matplotlib.pyplot as plt\n",
        "\n",
        "plt.plot(train_score)   # 훈련세트 점수\n",
        "plt.plot(test_score)    # 테스트 세트 점수\n",
        "plt.xlabel('epoch')     # 에포크 횟수\n",
        "plt.ylabel('accuracy')  # 정확도\n",
        "plt.show()"
      ],
      "metadata": {
        "colab": {
          "base_uri": "https://localhost:8080/",
          "height": 449
        },
        "id": "ikbgZofGmPJF",
        "outputId": "335ac422-9380-4573-ce4f-e69860662db6"
      },
      "execution_count": 16,
      "outputs": [
        {
          "output_type": "display_data",
          "data": {
            "text/plain": [
              "<Figure size 640x480 with 1 Axes>"
            ],
            "image/png": "[encoded data removed]"
          },
          "metadata": {}
        }
      ]
    },
    {
      "cell_type": "code",
      "source": [
        "# 결론 : 에포크 횟수를 100번 정도 돌리니 차트상으로 과대, 과소 적합이 아닌게 나온다(최상의 GOOD)\n",
        "sc = SGDClassifier(loss='log_loss', max_iter=100, tol=None, random_state=42)    # tol=None -> 조기 종료 안함\n",
        "# 확률적 경사 하강법은 일정 에포크 동안 성능이 향상되지 않으면 더이상 훈련하지 않고 자동으로 멈춘다.\n",
        "sc.fit(train_scaled, train_target)\n",
        "\n",
        "print(sc.score(train_scaled, train_target)) # 95.79%\n",
        "print(sc.score(test_scaled, test_target))   # 92.5% 로 최적의 상태가 분석 된다."
      ],
      "metadata": {
        "colab": {
          "base_uri": "https://localhost:8080/"
        },
        "id": "pElR0M4BnDTN",
        "outputId": "e66ae7f6-5768-4431-cbc4-daec11b5221e"
      },
      "execution_count": 17,
      "outputs": [
        {
          "output_type": "stream",
          "name": "stdout",
          "text": [
            "0.957983193277311\n",
            "0.925\n"
          ]
        }
      ]
    },
    {
      "cell_type": "code",
      "source": [
        "sc.predict(test_scaled[:5])     # Perch Smelt Pike Perch Perch\n",
        "\n",
        "proba = sc.predict_proba(test_scaled[:5])\n",
        "np.round(proba, decimals=3)"
      ],
      "metadata": {
        "colab": {
          "base_uri": "https://localhost:8080/"
        },
        "id": "Xfpq3XUdoYcI",
        "outputId": "f9af0f78-85f1-43e5-9474-297f5b6409c0"
      },
      "execution_count": 19,
      "outputs": [
        {
          "output_type": "execute_result",
          "data": {
            "text/plain": [
              "array([[0.   , 0.003, 0.774, 0.   , 0.219, 0.   , 0.005],\n",
              "       [0.   , 0.001, 0.015, 0.   , 0.04 , 0.945, 0.   ],\n",
              "       [0.   , 0.   , 0.011, 0.96 , 0.02 , 0.008, 0.001],\n",
              "       [0.   , 0.   , 0.525, 0.   , 0.423, 0.   , 0.052],\n",
              "       [0.   , 0.   , 0.688, 0.   , 0.306, 0.   , 0.006]])"
            ]
          },
          "metadata": {},
          "execution_count": 19
        }
      ]
    },
    {
      "cell_type": "code",
      "source": [
        "sc.classes_"
      ],
      "metadata": {
        "colab": {
          "base_uri": "https://localhost:8080/"
        },
        "id": "j7I5mpiHqo-g",
        "outputId": "e6bb8f72-31a1-43bd-d3cf-36d7f8efee9e"
      },
      "execution_count": 21,
      "outputs": [
        {
          "output_type": "execute_result",
          "data": {
            "text/plain": [
              "array(['Bream', 'Parkki', 'Perch', 'Pike', 'Roach', 'Smelt', 'Whitefish'],\n",
              "      dtype='<U9')"
            ]
          },
          "metadata": {},
          "execution_count": 21
        }
      ]
    },
    {
      "cell_type": "code",
      "source": [
        "# 손실함수에 대한 loss 매개값\n",
        "# loss 매개값의 기본값은 loss=hinge(힌지 손실) -> 서포트 백터 머신이라고 불림.\n",
        "# 또 다른 머신러닝 알고리즘을 위한 손실 함수이다.\n",
        "\n",
        "sc = SGDClassifier(loss='hinge', max_iter=100, tol=None, random_state=42)\n",
        "sc.fit(train_scaled, train_target)\n",
        "\n",
        "print(sc.score(train_scaled, train_target)) # 94.95%\n",
        "print(sc.score(test_scaled, test_target))   # 92.5%"
      ],
      "metadata": {
        "colab": {
          "base_uri": "https://localhost:8080/"
        },
        "id": "ufqky6pQqu81",
        "outputId": "43d767bd-6998-4a25-e480-8ec5c6adbc07"
      },
      "execution_count": 22,
      "outputs": [
        {
          "output_type": "stream",
          "name": "stdout",
          "text": [
            "0.9495798319327731\n",
            "0.925\n"
          ]
        }
      ]
    },
    {
      "cell_type": "markdown",
      "source": [
        "![image.png](data:image/png;base64,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)"
      ],
      "metadata": {
        "id": "fA81bHR2sHG-"
      }
    },
    {
      "cell_type": "code",
      "source": [
        "# https://velog.io/@lee9843/Word2Vec%EC%9D%84-%EC%9D%B4%ED%95%B4%ED%95%98%EA%B8%B0-%EC%9C%84%ED%95%9C-%EB%82%B4%EC%9A%A94-hinge-loss-%ED%9E%8C%EC%A7%80-%EC%86%90%EC%8B%A4"
      ],
      "metadata": {
        "id": "MSGXRiSlsJ4Z"
      },
      "execution_count": null,
      "outputs": []
    }
  ]
}